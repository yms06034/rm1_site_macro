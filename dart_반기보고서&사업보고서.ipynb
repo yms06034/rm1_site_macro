{
 "cells": [
  {
   "cell_type": "code",
   "execution_count": 1,
   "id": "5471577a",
   "metadata": {},
   "outputs": [],
   "source": [
    "from selenium import webdriver\n",
    "from selenium.webdriver.common.by import By\n",
    "from selenium.webdriver.common.keys import Keys\n",
    "from selenium.webdriver.chrome.options import Options\n",
    "from selenium.webdriver.chrome.service import Service\n",
    "from selenium.common.exceptions import NoSuchElementException\n",
    "from selenium.webdriver.support.ui import WebDriverWait\n",
    "from selenium.webdriver.support import expected_conditions as EC\n",
    "\n",
    "from webdriver_manager.chrome import ChromeDriverManager\n",
    "\n",
    "from bs4 import BeautifulSoup as BS\n",
    "from datetime import datetime\n",
    "\n",
    "import pandas as pd\n",
    "import time\n",
    "import sys, os\n",
    "import re\n",
    "import json\n",
    "import random\n",
    "\n",
    "\n",
    "def find_css(css_selector, browser):\n",
    "    return browser.find_element(By.CSS_SELECTOR, css_selector)\n",
    "def finds_css(css_selector, browser):\n",
    "    return browser.find_elements(By.CSS_SELECTOR, css_selector)\n",
    "\n",
    "def find_xpath(xpath, browser):\n",
    "    return browser.find_element(By.XPATH, xpath)\n",
    "def finds_xpath(xpath, browser):\n",
    "    return browser.find_elements(By.XPATH, xpath)\n",
    "\n",
    "def find_id(e_id, browser):\n",
    "    return browser.find_element(By.ID, e_id)\n",
    "\n",
    "def find_className(cn, browser):\n",
    "    return browser.find_element(By.CLASS_NAME, cn)\n",
    "def finds_className(cn , browser):\n",
    "    return browser.find_elements(By.CLASS_NAME, cn)\n",
    "\n",
    "def find_linktext(lt, browser):\n",
    "    return browser.find_element(By.LINK_TEXT, lt)\n",
    "\n",
    "def find_name(name, browser):\n",
    "    return browser.find_element(By.NAME, name)\n",
    "def finds_name(name, browser):\n",
    "    return browser.find_elements(By.NAME, name)\n",
    "\n",
    "def find_tagName(tag_name, browser):\n",
    "    return browser.find_element(By.TAG_NAME, tag_name)\n",
    "\n",
    "def finds_tagName(tag_name, browser):\n",
    "    return browser.find_elements(By.TAG_NAME, tag_name)\n",
    "\n",
    "def resource_path(relative_path):\n",
    "    \"\"\" Get absolute path to resource, works for dev and for PyInstaller \"\"\"\n",
    "    base_path = getattr(sys, '_MEIPASS', os.path.dirname(os.path.abspath(__file__)))\n",
    "    return os.path.join(base_path, relative_path)"
   ]
  },
  {
   "cell_type": "code",
   "execution_count": 2,
   "id": "f211a843",
   "metadata": {},
   "outputs": [],
   "source": [
    "def open_browser():\n",
    "    options = webdriver.ChromeOptions()\n",
    "    options.add_argument('--no--sandbox')\n",
    "    options.add_argument('no-sandbox')\n",
    "    options.add_argument('--disable-dev-shm-usage')\n",
    "    options.add_argument('--window-size=1080,800')\n",
    "    options.add_argument('incognito')\n",
    "    chrome_service = Service('chromedriver')\n",
    "    chrome_service = Service(executable_path=\"chromedriver.exe\")\n",
    "    \n",
    "    browser = webdriver.Chrome(service=chrome_service, options=options)\n",
    "    browser.get('https://dart.fss.or.kr/main.do')\n",
    "    \n",
    "    return browser"
   ]
  },
  {
   "cell_type": "code",
   "execution_count": 3,
   "id": "22493071",
   "metadata": {},
   "outputs": [
    {
     "name": "stdout",
     "output_type": "stream",
     "text": [
      "203\n",
      "203\n"
     ]
    }
   ],
   "source": [
    "df = pd.read_excel('상위\\\\상위_회사이름_list.xlsx')\n",
    "df['회사이름'] = df['회사이름'].str.replace(r'\\(.*\\)', '', regex=True)\n",
    "df['대표자명'] = df['대표자명'].str.split(',').str[0]\n",
    "original_ceo_name_list = df['대표자명'].tolist()\n",
    "original_company_name_list = df['회사이름'].tolist()\n",
    "\n",
    "df2 = df.copy()\n",
    "df2 = df[~df2['회사이름'].str.contains('공사')]\n",
    "final_company_name_list = df2['회사이름'].tolist()\n",
    "final_ceo_name_list = df2['대표자명'].tolist()\n",
    "\n",
    "print(len(final_company_name_list))\n",
    "print(len(final_ceo_name_list))"
   ]
  },
  {
   "cell_type": "code",
   "execution_count": 3,
   "id": "95c403c2",
   "metadata": {},
   "outputs": [],
   "source": [
    "browser = open_browser()"
   ]
  },
  {
   "cell_type": "code",
   "execution_count": 4,
   "id": "3fbe2e71",
   "metadata": {},
   "outputs": [
    {
     "ename": "NoSuchElementException",
     "evalue": "Message: no such element: Unable to locate element: {\"method\":\"xpath\",\"selector\":\"/html/body/div[14]/div[2]/div[2]/div/div[1]/div[2]/table/tbody/tr[13]/td[2]\"}\n  (Session info: chrome=119.0.6045.160)\nStacktrace:\n\tGetHandleVerifier [0x00007FF7FA9182B2+55298]\n\t(No symbol) [0x00007FF7FA885E02]\n\t(No symbol) [0x00007FF7FA7405AB]\n\t(No symbol) [0x00007FF7FA78175C]\n\t(No symbol) [0x00007FF7FA7818DC]\n\t(No symbol) [0x00007FF7FA7BCBC7]\n\t(No symbol) [0x00007FF7FA7A20EF]\n\t(No symbol) [0x00007FF7FA7BAAA4]\n\t(No symbol) [0x00007FF7FA7A1E83]\n\t(No symbol) [0x00007FF7FA77670A]\n\t(No symbol) [0x00007FF7FA777964]\n\tGetHandleVerifier [0x00007FF7FAC90AAB+3694587]\n\tGetHandleVerifier [0x00007FF7FACE728E+4048862]\n\tGetHandleVerifier [0x00007FF7FACDF173+4015811]\n\tGetHandleVerifier [0x00007FF7FA9B47D6+695590]\n\t(No symbol) [0x00007FF7FA890CE8]\n\t(No symbol) [0x00007FF7FA88CF34]\n\t(No symbol) [0x00007FF7FA88D062]\n\t(No symbol) [0x00007FF7FA87D3A3]\n\tBaseThreadInitThunk [0x00007FFA8FBC257D+29]\n\tRtlUserThreadStart [0x00007FFA9074AA58+40]\n",
     "output_type": "error",
     "traceback": [
      "\u001b[1;31m---------------------------------------------------------------------------\u001b[0m",
      "\u001b[1;31mNoSuchElementException\u001b[0m                    Traceback (most recent call last)",
      "Cell \u001b[1;32mIn[4], line 20\u001b[0m\n\u001b[0;32m      8\u001b[0m time\u001b[38;5;241m.\u001b[39msleep(\u001b[38;5;241m1.5\u001b[39m)\n\u001b[0;32m     10\u001b[0m \u001b[38;5;66;03m# 사업보고서 재무제표\u001b[39;00m\n\u001b[0;32m     11\u001b[0m \u001b[38;5;66;03m# find_xpath('/html/body/div[14]/div[2]/div[2]/div/div[1]/div[2]/table/tbody/tr[3]/td[2]', browser).click()\u001b[39;00m\n\u001b[0;32m     12\u001b[0m \n\u001b[1;32m   (...)\u001b[0m\n\u001b[0;32m     18\u001b[0m \n\u001b[0;32m     19\u001b[0m \u001b[38;5;66;03m# 감사보고서 재무제표\u001b[39;00m\n\u001b[1;32m---> 20\u001b[0m \u001b[43mfind_xpath\u001b[49m\u001b[43m(\u001b[49m\u001b[38;5;124;43m'\u001b[39;49m\u001b[38;5;124;43m/html/body/div[14]/div[2]/div[2]/div/div[1]/div[2]/table/tbody/tr[13]/td[2]\u001b[39;49m\u001b[38;5;124;43m'\u001b[39;49m\u001b[43m,\u001b[49m\u001b[43m \u001b[49m\u001b[43mbrowser\u001b[49m\u001b[43m)\u001b[49m\u001b[38;5;241m.\u001b[39mclick()\n\u001b[0;32m     22\u001b[0m time\u001b[38;5;241m.\u001b[39msleep(\u001b[38;5;241m1.5\u001b[39m)\n\u001b[0;32m     23\u001b[0m \u001b[38;5;66;03m# 검색 click\u001b[39;00m\n",
      "Cell \u001b[1;32mIn[1], line 29\u001b[0m, in \u001b[0;36mfind_xpath\u001b[1;34m(xpath, browser)\u001b[0m\n\u001b[0;32m     28\u001b[0m \u001b[38;5;28;01mdef\u001b[39;00m \u001b[38;5;21mfind_xpath\u001b[39m(xpath, browser):\n\u001b[1;32m---> 29\u001b[0m     \u001b[38;5;28;01mreturn\u001b[39;00m \u001b[43mbrowser\u001b[49m\u001b[38;5;241;43m.\u001b[39;49m\u001b[43mfind_element\u001b[49m\u001b[43m(\u001b[49m\u001b[43mBy\u001b[49m\u001b[38;5;241;43m.\u001b[39;49m\u001b[43mXPATH\u001b[49m\u001b[43m,\u001b[49m\u001b[43m \u001b[49m\u001b[43mxpath\u001b[49m\u001b[43m)\u001b[49m\n",
      "File \u001b[1;32m~\\anaconda3\\lib\\site-packages\\selenium\\webdriver\\remote\\webdriver.py:831\u001b[0m, in \u001b[0;36mWebDriver.find_element\u001b[1;34m(self, by, value)\u001b[0m\n\u001b[0;32m    828\u001b[0m     by \u001b[38;5;241m=\u001b[39m By\u001b[38;5;241m.\u001b[39mCSS_SELECTOR\n\u001b[0;32m    829\u001b[0m     value \u001b[38;5;241m=\u001b[39m \u001b[38;5;124mf\u001b[39m\u001b[38;5;124m'\u001b[39m\u001b[38;5;124m[name=\u001b[39m\u001b[38;5;124m\"\u001b[39m\u001b[38;5;132;01m{\u001b[39;00mvalue\u001b[38;5;132;01m}\u001b[39;00m\u001b[38;5;124m\"\u001b[39m\u001b[38;5;124m]\u001b[39m\u001b[38;5;124m'\u001b[39m\n\u001b[1;32m--> 831\u001b[0m \u001b[38;5;28;01mreturn\u001b[39;00m \u001b[38;5;28;43mself\u001b[39;49m\u001b[38;5;241;43m.\u001b[39;49m\u001b[43mexecute\u001b[49m\u001b[43m(\u001b[49m\u001b[43mCommand\u001b[49m\u001b[38;5;241;43m.\u001b[39;49m\u001b[43mFIND_ELEMENT\u001b[49m\u001b[43m,\u001b[49m\u001b[43m \u001b[49m\u001b[43m{\u001b[49m\u001b[38;5;124;43m\"\u001b[39;49m\u001b[38;5;124;43musing\u001b[39;49m\u001b[38;5;124;43m\"\u001b[39;49m\u001b[43m:\u001b[49m\u001b[43m \u001b[49m\u001b[43mby\u001b[49m\u001b[43m,\u001b[49m\u001b[43m \u001b[49m\u001b[38;5;124;43m\"\u001b[39;49m\u001b[38;5;124;43mvalue\u001b[39;49m\u001b[38;5;124;43m\"\u001b[39;49m\u001b[43m:\u001b[49m\u001b[43m \u001b[49m\u001b[43mvalue\u001b[49m\u001b[43m}\u001b[49m\u001b[43m)\u001b[49m[\u001b[38;5;124m\"\u001b[39m\u001b[38;5;124mvalue\u001b[39m\u001b[38;5;124m\"\u001b[39m]\n",
      "File \u001b[1;32m~\\anaconda3\\lib\\site-packages\\selenium\\webdriver\\remote\\webdriver.py:440\u001b[0m, in \u001b[0;36mWebDriver.execute\u001b[1;34m(self, driver_command, params)\u001b[0m\n\u001b[0;32m    438\u001b[0m response \u001b[38;5;241m=\u001b[39m \u001b[38;5;28mself\u001b[39m\u001b[38;5;241m.\u001b[39mcommand_executor\u001b[38;5;241m.\u001b[39mexecute(driver_command, params)\n\u001b[0;32m    439\u001b[0m \u001b[38;5;28;01mif\u001b[39;00m response:\n\u001b[1;32m--> 440\u001b[0m     \u001b[38;5;28;43mself\u001b[39;49m\u001b[38;5;241;43m.\u001b[39;49m\u001b[43merror_handler\u001b[49m\u001b[38;5;241;43m.\u001b[39;49m\u001b[43mcheck_response\u001b[49m\u001b[43m(\u001b[49m\u001b[43mresponse\u001b[49m\u001b[43m)\u001b[49m\n\u001b[0;32m    441\u001b[0m     response[\u001b[38;5;124m\"\u001b[39m\u001b[38;5;124mvalue\u001b[39m\u001b[38;5;124m\"\u001b[39m] \u001b[38;5;241m=\u001b[39m \u001b[38;5;28mself\u001b[39m\u001b[38;5;241m.\u001b[39m_unwrap_value(response\u001b[38;5;241m.\u001b[39mget(\u001b[38;5;124m\"\u001b[39m\u001b[38;5;124mvalue\u001b[39m\u001b[38;5;124m\"\u001b[39m, \u001b[38;5;28;01mNone\u001b[39;00m))\n\u001b[0;32m    442\u001b[0m     \u001b[38;5;28;01mreturn\u001b[39;00m response\n",
      "File \u001b[1;32m~\\anaconda3\\lib\\site-packages\\selenium\\webdriver\\remote\\errorhandler.py:245\u001b[0m, in \u001b[0;36mErrorHandler.check_response\u001b[1;34m(self, response)\u001b[0m\n\u001b[0;32m    243\u001b[0m         alert_text \u001b[38;5;241m=\u001b[39m value[\u001b[38;5;124m\"\u001b[39m\u001b[38;5;124malert\u001b[39m\u001b[38;5;124m\"\u001b[39m]\u001b[38;5;241m.\u001b[39mget(\u001b[38;5;124m\"\u001b[39m\u001b[38;5;124mtext\u001b[39m\u001b[38;5;124m\"\u001b[39m)\n\u001b[0;32m    244\u001b[0m     \u001b[38;5;28;01mraise\u001b[39;00m exception_class(message, screen, stacktrace, alert_text)  \u001b[38;5;66;03m# type: ignore[call-arg]  # mypy is not smart enough here\u001b[39;00m\n\u001b[1;32m--> 245\u001b[0m \u001b[38;5;28;01mraise\u001b[39;00m exception_class(message, screen, stacktrace)\n",
      "\u001b[1;31mNoSuchElementException\u001b[0m: Message: no such element: Unable to locate element: {\"method\":\"xpath\",\"selector\":\"/html/body/div[14]/div[2]/div[2]/div/div[1]/div[2]/table/tbody/tr[13]/td[2]\"}\n  (Session info: chrome=119.0.6045.160)\nStacktrace:\n\tGetHandleVerifier [0x00007FF7FA9182B2+55298]\n\t(No symbol) [0x00007FF7FA885E02]\n\t(No symbol) [0x00007FF7FA7405AB]\n\t(No symbol) [0x00007FF7FA78175C]\n\t(No symbol) [0x00007FF7FA7818DC]\n\t(No symbol) [0x00007FF7FA7BCBC7]\n\t(No symbol) [0x00007FF7FA7A20EF]\n\t(No symbol) [0x00007FF7FA7BAAA4]\n\t(No symbol) [0x00007FF7FA7A1E83]\n\t(No symbol) [0x00007FF7FA77670A]\n\t(No symbol) [0x00007FF7FA777964]\n\tGetHandleVerifier [0x00007FF7FAC90AAB+3694587]\n\tGetHandleVerifier [0x00007FF7FACE728E+4048862]\n\tGetHandleVerifier [0x00007FF7FACDF173+4015811]\n\tGetHandleVerifier [0x00007FF7FA9B47D6+695590]\n\t(No symbol) [0x00007FF7FA890CE8]\n\t(No symbol) [0x00007FF7FA88CF34]\n\t(No symbol) [0x00007FF7FA88D062]\n\t(No symbol) [0x00007FF7FA87D3A3]\n\tBaseThreadInitThunk [0x00007FFA8FBC257D+29]\n\tRtlUserThreadStart [0x00007FFA9074AA58+40]\n"
     ]
    }
   ],
   "source": [
    "find_id('selectCheckNmText', browser).click()\n",
    "time.sleep(1)\n",
    "find_id('option4Text', browser).click()\n",
    "time.sleep(2)\n",
    "find_id('tocSrch', browser).send_keys('손익계산서')\n",
    "time.sleep(.5)\n",
    "find_id('tocSrch', browser).send_keys('\\n')\n",
    "time.sleep(1.5)\n",
    "\n",
    "# 사업보고서 재무제표\n",
    "# find_xpath('/html/body/div[14]/div[2]/div[2]/div/div[1]/div[2]/table/tbody/tr[3]/td[2]', browser).click()\n",
    "\n",
    "# 반기보고서 재무제표\n",
    "# find_xpath('/html/body/div[14]/div[2]/div[2]/div/div[1]/div[2]/table/tbody/tr[7]/td[2]', browser).click()\n",
    "\n",
    "# 분기보고서 재무제표\n",
    "# find_xpath('/html/body/div[14]/div[2]/div[2]/div/div[1]/div[2]/table/tbody/tr[11]/td[2]', browser).click()\n",
    "\n",
    "# 감사보고서 재무제표\n",
    "find_xpath('/html/body/div[14]/div[2]/div[2]/div/div[1]/div[2]/table/tbody/tr[13]/td[2]', browser).click()\n",
    "\n",
    "time.sleep(1.5)\n",
    "# 검색 click\n",
    "find_xpath('/html/body/div[4]/div[2]/div[1]/div[2]/div[2]/form[2]/div[2]/div[2]/a[1]', browser).click()\n",
    "\n",
    "time.sleep(5)\n",
    "\n",
    "find_id('maxResultsCb', browser).click()\n",
    "time.sleep(.5)\n",
    "find_xpath('/html/body/div[4]/div[2]/div[1]/div[2]/div[2]/div[2]/div[1]/span/select/option[4]', browser).click()\n",
    "time.sleep(1)\n",
    "\n",
    "# 검색 click\n",
    "find_xpath('/html/body/div[4]/div[2]/div[1]/div[2]/div[2]/form[2]/div[2]/div[2]/a[1]', browser).click()\n",
    "time.sleep(1)\n",
    "\n",
    "total_number = find_className('pageInfo', browser).text.split(' ')[0].split('/')[-1].split(']')[0]\n",
    "print(total_number)"
   ]
  },
  {
   "cell_type": "code",
   "execution_count": 5,
   "id": "ee6cb953",
   "metadata": {},
   "outputs": [
    {
     "name": "stdout",
     "output_type": "stream",
     "text": [
      "301\n"
     ]
    }
   ],
   "source": [
    "total_number = find_className('pageInfo', browser).text.split(' ')[0].split('/')[-1].split(']')[0]\n",
    "print(total_number)"
   ]
  },
  {
   "cell_type": "code",
   "execution_count": 336,
   "id": "37b7f9e0",
   "metadata": {},
   "outputs": [],
   "source": [
    "soup = BS(browser.page_source, 'html.parser')\n",
    "table = soup.find('table')\n",
    "\n",
    "data = []\n",
    "for row in table.find_all('tr'):\n",
    "    row_data = []\n",
    "    for cell in row.find_all(['th', 'td']):\n",
    "        # 텍스트 추출\n",
    "        cell_text = cell.get_text(strip=True)\n",
    "        # 링크가 있는 경우, <a> 태그 찾기\n",
    "        link = cell.find('a')\n",
    "        if link:\n",
    "            # <a> 태그의 href 속성을 가져와서 추가\n",
    "            cell_text = cell_text + ' ' + link.get('href')\n",
    "        row_data.append(cell_text)\n",
    "    data.append(row_data)"
   ]
  },
  {
   "cell_type": "code",
   "execution_count": 43,
   "id": "d2717f98",
   "metadata": {
    "scrolled": true
   },
   "outputs": [
    {
     "name": "stdout",
     "output_type": "stream",
     "text": [
      "1\n",
      "2\n",
      "3\n",
      "4\n",
      "5\n",
      "6\n",
      "7\n",
      "8\n",
      "9\n",
      "10\n",
      "11\n",
      "12\n",
      "13\n",
      "14\n",
      "15\n",
      "16\n",
      "17\n",
      "18\n",
      "19\n",
      "20\n",
      "21\n",
      "22\n",
      "23\n",
      "24\n",
      "25\n",
      "26\n",
      "27\n",
      "28\n",
      "29\n",
      "30\n",
      "31\n",
      "32\n",
      "33\n",
      "34\n"
     ]
    }
   ],
   "source": [
    "count = 1\n",
    "data = []\n",
    "\n",
    "for i in range(1, int(total_number) + 1):\n",
    "    elements = find_linktext(f'{i}', browser)\n",
    "    if elements:\n",
    "        print(elements.text)\n",
    "        time.sleep(1)\n",
    "        elements.click()\n",
    "        time.sleep(5)\n",
    "        soup = BS(browser.page_source, 'html.parser')\n",
    "        table = soup.find('table')\n",
    "\n",
    "        for row in table.find_all('tr'):\n",
    "            row_data = []\n",
    "            for cell in row.find_all(['th', 'td']):\n",
    "                # 텍스트 추출\n",
    "                cell_text = cell.get_text(strip=True)\n",
    "                # 링크가 있는 경우, <a> 태그 찾기\n",
    "                link = cell.find('a')\n",
    "                if link:\n",
    "                    # <a> 태그의 href 속성을 가져와서 추가\n",
    "                    cell_text = cell_text + ' ' + link.get('href')\n",
    "                row_data.append(cell_text)\n",
    "            data.append(row_data)\n",
    "\n",
    "        count += 1\n",
    "        if count % 10 == 1:\n",
    "            find_className('next', browser).click()\n",
    "            time.sleep(5)\n",
    "    else:\n",
    "        print('일치하는 title을 가진 요소를 찾을 수 없습니다.')"
   ]
  },
  {
   "cell_type": "code",
   "execution_count": 44,
   "id": "6d17c631",
   "metadata": {},
   "outputs": [
    {
     "data": {
      "text/plain": [
       "3374"
      ]
     },
     "execution_count": 44,
     "metadata": {},
     "output_type": "execute_result"
    }
   ],
   "source": [
    "len(data)"
   ]
  },
  {
   "cell_type": "code",
   "execution_count": 45,
   "id": "49aaaffb",
   "metadata": {},
   "outputs": [],
   "source": [
    "columns = data[0]\n",
    "data = data[1:] "
   ]
  },
  {
   "cell_type": "code",
   "execution_count": 46,
   "id": "75687ecc",
   "metadata": {},
   "outputs": [],
   "source": [
    "df = pd.DataFrame(data, columns=columns)\n",
    "\n",
    "df.drop(['번호', '비고'], axis=1,inplace=True)\n",
    "df['공시대상회사'] = df['공시대상회사'].str.split(' ').str[0]\n",
    "df['text'] =  df['보고서명'].str.split('/').str[1:]\n",
    "df['text1'] = df['text'].str[0]\n",
    "df['text2'] = df['text'].str[1]\n",
    "df['주소'] = 'https://dart.fss.or.kr/' + df['text1'] + '/' + df['text2']\n",
    "\n",
    "df['보고서명'] = df['보고서명'].str.replace('\\n\\t\\t\\t\\t\\t\\t\\t', '')\n",
    "df['날짜'] = df['보고서명'].str.split(' ').str[1]\n",
    "df['보고서명'] = df['보고서명'].str.split(' ').str[0]\n",
    "\n",
    "df['날짜'] = df['날짜'].str.extract(r'\\((\\d+\\.\\d+)\\)')\n",
    "df[['연도', '월']] = df['날짜'].str.split('.', expand=True)\n",
    "df['공시대상회사'] = df['공시대상회사'].str[1:]\n",
    "\n",
    "df.drop(['text', 'text1', 'text2', '날짜'], axis=1, inplace=True)"
   ]
  },
  {
   "cell_type": "code",
   "execution_count": 47,
   "id": "7e5263de",
   "metadata": {},
   "outputs": [
    {
     "name": "stdout",
     "output_type": "stream",
     "text": [
      "32\n"
     ]
    }
   ],
   "source": [
    "print(df.duplicated().sum())\n",
    "df.drop_duplicates(inplace=True)"
   ]
  },
  {
   "cell_type": "code",
   "execution_count": 48,
   "id": "25147ce2",
   "metadata": {},
   "outputs": [],
   "source": [
    "df.to_excel('재무제표_dart\\\\사업보고서_1115_재무제표_list.xlsx', index=False)"
   ]
  },
  {
   "cell_type": "markdown",
   "id": "e769d0c0",
   "metadata": {},
   "source": [
    "--------------------------------"
   ]
  },
  {
   "cell_type": "code",
   "execution_count": 89,
   "id": "f9def174",
   "metadata": {},
   "outputs": [],
   "source": [
    "df_1 = pd.read_excel(\"재무제표_dart\\\\감사보고서_1115_재무제표_list.xlsx\")\n",
    "df_2 = pd.read_excel(\"재무제표_dart\\\\감사보고서_전수자료\\\\전수_감사보고서_없는회사.xlsx\")\n",
    "\n",
    "df_3 = pd.read_excel(\"재무제표_dart\\\\감사보고서_1115_재무제표_list.xlsx\")\n",
    "df_4 = pd.read_excel(\"재무제표_dart\\\\감사보고서_전수자료\\\\전수_감사보고서_없는회사.xlsx\")\n",
    "# df_middle_name = pd.read_excel(\"전수\\\\회사이름_list.xlsx\")\n",
    "# print(df_1.shape)\n",
    "# print(df_middle_name.shape)\n",
    "\n",
    "# df_middle_name['회사이름'] = df_middle_name['회사이름'].str.replace(r'\\(.*\\)', '', regex=True)"
   ]
  },
  {
   "cell_type": "code",
   "execution_count": 92,
   "id": "264a3a92",
   "metadata": {
    "scrolled": true
   },
   "outputs": [],
   "source": [
    "df50 = df_1[df_1['공시대상회사'].isin(df_middle_name['회사이름2'])]\n",
    "df51 = df_middle_name[~df_middle_name['회사이름2'].isin(df50['공시대상회사'])]"
   ]
  },
  {
   "cell_type": "code",
   "execution_count": 97,
   "id": "5620a0f1",
   "metadata": {},
   "outputs": [],
   "source": [
    "df50.to_excel(\"재무제표_dart\\\\감사보고서_전수자료\\\\전수_감사보고서_urls_2.xlsx\")\n",
    "df51.to_excel(\"재무제표_dart\\\\감사보고서_전수자료\\\\전수_감사보고서_없는회사_2.xlsx\")"
   ]
  },
  {
   "cell_type": "code",
   "execution_count": 93,
   "id": "032dd17e",
   "metadata": {},
   "outputs": [
    {
     "name": "stdout",
     "output_type": "stream",
     "text": [
      "1441\n",
      "1064\n"
     ]
    }
   ],
   "source": [
    "print(df50.shape[0])\n",
    "print(df51.shape[0])"
   ]
  },
  {
   "cell_type": "code",
   "execution_count": 87,
   "id": "5aa23aec",
   "metadata": {},
   "outputs": [],
   "source": [
    "df10 = df_3[df_3['공시대상회사'].isin(df_middle_name['회사이름2'])]\n",
    "df11 = df_middle_name[~df_middle_name['회사이름2'].isin(df10['공시대상회사'])]\n",
    "\n",
    "df10.to_excel(\"재무제표_dart\\\\감사보고서_전수자료\\\\전수_감사보고서_urls_2.xlsx\")\n",
    "df11.to_excel(\"재무제표_dart\\\\감사보고서_전수자료\\\\전수_감사보고서_없는회사_2.xlsx\")"
   ]
  },
  {
   "cell_type": "code",
   "execution_count": 58,
   "id": "ff92e05a",
   "metadata": {},
   "outputs": [
    {
     "data": {
      "text/plain": [
       "(589, 7)"
      ]
     },
     "execution_count": 58,
     "metadata": {},
     "output_type": "execute_result"
    }
   ],
   "source": [
    "df46 = df_1[df_1['제출인'].isin(df_2['회사이름'])]\n",
    "df46.shape"
   ]
  },
  {
   "cell_type": "code",
   "execution_count": 59,
   "id": "f7bddcd0",
   "metadata": {},
   "outputs": [],
   "source": [
    "df47 = df_2[~df_2['회사이름'].isin(df_1['제출인'])]"
   ]
  },
  {
   "cell_type": "code",
   "execution_count": 60,
   "id": "cdbf4551",
   "metadata": {},
   "outputs": [
    {
     "name": "stdout",
     "output_type": "stream",
     "text": [
      "1099\n"
     ]
    }
   ],
   "source": [
    "print(df46.shape[0] + df47.shape[0])"
   ]
  },
  {
   "cell_type": "code",
   "execution_count": 61,
   "id": "3efade35",
   "metadata": {},
   "outputs": [],
   "source": [
    "df46.to_excel(\"재무제표_dart\\\\감사보고서_전수자료\\\\전수_사업보고서_urls.xlsx\", index=False)"
   ]
  },
  {
   "cell_type": "code",
   "execution_count": 62,
   "id": "76258c57",
   "metadata": {},
   "outputs": [],
   "source": [
    "df47.to_excel(\"재무제표_dart\\\\감사보고서_전수자료\\\\전수_사업&감사_없는회사.xlsx\", index=False)"
   ]
  },
  {
   "cell_type": "code",
   "execution_count": 41,
   "id": "c893b5fd",
   "metadata": {},
   "outputs": [],
   "source": [
    "df44.to_excel(\"재무제표_dart\\\\감사보고서_전수자료\\\\전수_감사보고서_urls.xlsx\")\n",
    "df45.to_excel(\"재무제표_dart\\\\감사보고서_전수자료\\\\전수_감사보고서_없는회사.xlsx\")"
   ]
  },
  {
   "cell_type": "code",
   "execution_count": 84,
   "id": "06459cb3",
   "metadata": {},
   "outputs": [],
   "source": [
    "df_1 = pd.read_excel(\"재무제표_dart\\\\사업보고서_재무제표.xlsx\")\n",
    "df_2 = pd.read_excel(\"재무제표_dart\\\\반기보고서_재무제표.xlsx\")\n",
    "df_3 = pd.read_excel(\"재무제표_dart\\\\분기보고서_재무제표.xlsx\")\n",
    "df_4 = pd.read_excel(\"재무제표_dart\\\\감사보고서_재무제표.xlsx\")\n",
    "\n",
    "df_top_name = pd.read_excel(\"상위\\\\상위_회사이름_list.xlsx\")\n",
    "df_middle_name = pd.read_excel(\"전수\\\\회사이름_list.xlsx\")"
   ]
  },
  {
   "cell_type": "code",
   "execution_count": 396,
   "id": "bdc3820d",
   "metadata": {},
   "outputs": [
    {
     "name": "stdout",
     "output_type": "stream",
     "text": [
      "사업보고서 : (3144, 8)\n",
      "반기보고서 : (3058, 8)\n",
      "분기보고서 : (5898, 8)\n",
      "감사보고서 : (34487, 8)\n",
      "\n",
      "사업보고서 중복 값 : 0\n",
      "반기보고서 중복 값 : 0\n",
      "분기보고서 중복 값 : 0\n",
      "감사보고서 중복 값 : 0\n",
      "---------------------------\n",
      "상위 회사이름 : (220, 2)\n",
      "전수 회사이름 : (2395, 2)\n",
      "\n",
      "상위 회사이름 중복 값 : 0\n",
      "전수 회사이름 중복 값 : 0\n"
     ]
    }
   ],
   "source": [
    "print(f\"사업보고서 : {df_1.shape}\")\n",
    "print(f\"반기보고서 : {df_2.shape}\")\n",
    "print(f\"분기보고서 : {df_3.shape}\")\n",
    "print(f\"감사보고서 : {df_4.shape}\")\n",
    "print()\n",
    "print(f\"사업보고서 중복 값 : {df_1.duplicated().sum()}\")\n",
    "print(f\"반기보고서 중복 값 : {df_2.duplicated().sum()}\")\n",
    "print(f\"분기보고서 중복 값 : {df_3.duplicated().sum()}\")\n",
    "print(f\"감사보고서 중복 값 : {df_4.duplicated().sum()}\")\n",
    "print('---------------------------')\n",
    "print(f\"상위 회사이름 : {df_top_name.shape}\")\n",
    "print(f\"전수 회사이름 : {df_middle_name.shape}\")\n",
    "print()\n",
    "print(f\"상위 회사이름 중복 값 : {df_top_name.duplicated().sum()}\")\n",
    "print(f\"전수 회사이름 중복 값 : {df_middle_name.duplicated().sum()}\")"
   ]
  },
  {
   "cell_type": "code",
   "execution_count": 85,
   "id": "4b7a08e6",
   "metadata": {},
   "outputs": [],
   "source": [
    "df_top_name['회사이름'] = df_top_name['회사이름'].str.replace(r'\\(.*\\)', '', regex=True)\n",
    "df_middle_name['회사이름2'] = df_middle_name['회사이름'].str.replace(r'\\(.*\\)', '', regex=True)"
   ]
  },
  {
   "cell_type": "code",
   "execution_count": 403,
   "id": "6791e1c7",
   "metadata": {},
   "outputs": [
    {
     "data": {
      "text/plain": [
       "0                   디일레븐인베스트\n",
       "1          생보제십이호위탁관리부동산투자회사\n",
       "2                    레고랜드코리아\n",
       "3                     아이비젼웍스\n",
       "4                      유니애대부\n",
       "                ...         \n",
       "34482                     대중\n",
       "34483        시스코시스템즈캐피탈코리아대부\n",
       "34484               농업회사법인건양\n",
       "34485              진주혁신아이티밸리\n",
       "34486    엠프라퍼티제1호위탁관리부동산투자회사\n",
       "Name: 공시대상회사, Length: 34487, dtype: object"
      ]
     },
     "execution_count": 403,
     "metadata": {},
     "output_type": "execute_result"
    }
   ],
   "source": [
    "df_1['공시대상회사']\n",
    "df_2['공시대상회사']\n",
    "df_3['공시대상회사']\n",
    "df_4['공시대상회사']"
   ]
  },
  {
   "cell_type": "code",
   "execution_count": 98,
   "id": "61ab3c4c",
   "metadata": {},
   "outputs": [],
   "source": [
    "dd = pd.read_excel(\"C:\\\\Users\\\\user\\\\Downloads\\\\2022년 설비투자 데이터.xlsx\")\n",
    "dd1 = pd.read_excel(\"C:\\\\Users\\\\user\\\\Project\\\\macro\\\\rm\\\\재무제표_dart\\\\감사보고서_전수자료\\\\전수_감사보고서_없는회사_2.xlsx\")"
   ]
  },
  {
   "cell_type": "code",
   "execution_count": 103,
   "id": "9b15cd7a",
   "metadata": {},
   "outputs": [],
   "source": [
    "dd3 = dd1[~dd1['회사이름'].isin(dd['기업명'])]\n",
    "dd3.to_excel(\"C:\\\\Users\\\\user\\\\Project\\\\macro\\\\rm\\\\재무제표_dart\\\\감사보고서_전수자료\\\\작년데이터도 없는 회사.xlsx\")"
   ]
  }
 ],
 "metadata": {
  "kernelspec": {
   "display_name": "Python 3 (ipykernel)",
   "language": "python",
   "name": "python3"
  },
  "language_info": {
   "codemirror_mode": {
    "name": "ipython",
    "version": 3
   },
   "file_extension": ".py",
   "mimetype": "text/x-python",
   "name": "python",
   "nbconvert_exporter": "python",
   "pygments_lexer": "ipython3",
   "version": "3.10.9"
  }
 },
 "nbformat": 4,
 "nbformat_minor": 5
}
