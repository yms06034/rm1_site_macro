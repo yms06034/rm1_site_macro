{
 "cells": [
  {
   "cell_type": "code",
   "execution_count": 74,
   "id": "7dfbdb8e",
   "metadata": {},
   "outputs": [],
   "source": [
    "from selenium import webdriver\n",
    "from selenium.webdriver.common.by import By\n",
    "from selenium.webdriver.common.keys import Keys\n",
    "from selenium.webdriver.chrome.options import Options\n",
    "from selenium.webdriver.chrome.service import Service\n",
    "from selenium.common.exceptions import NoSuchElementException\n",
    "from selenium.webdriver.support.ui import WebDriverWait\n",
    "from selenium.webdriver.support import expected_conditions as EC\n",
    "\n",
    "from webdriver_manager.chrome import ChromeDriverManager\n",
    "\n",
    "from bs4 import BeautifulSoup as BS\n",
    "from datetime import datetime\n",
    "\n",
    "from collections import Counter\n",
    "\n",
    "import pandas as pd\n",
    "import time\n",
    "import sys, os\n",
    "import re\n",
    "import json\n",
    "import random\n",
    "import numpy as np\n",
    "import re\n",
    "\n",
    "\n",
    "def find_css(css_selector, browser):\n",
    "    return browser.find_element(By.CSS_SELECTOR, css_selector)\n",
    "def finds_css(css_selector, browser):\n",
    "    return browser.find_elements(By.CSS_SELECTOR, css_selector)\n",
    "\n",
    "def find_xpath(xpath, browser):\n",
    "    return browser.find_element(By.XPATH, xpath)\n",
    "def finds_xpath(xpath, browser):\n",
    "    return browser.find_elements(By.XPATH, xpath)\n",
    "\n",
    "def find_id(e_id, browser):\n",
    "    return browser.find_element(By.ID, e_id)\n",
    "\n",
    "def find_className(cn, browser):\n",
    "    return browser.find_element(By.CLASS_NAME, cn)\n",
    "def finds_className(cn , browser):\n",
    "    return browser.find_elements(By.CLASS_NAME, cn)\n",
    "\n",
    "def find_linktext(lt, browser):\n",
    "    return browser.find_element(By.LINK_TEXT, lt)\n",
    "\n",
    "def find_name(name, browser):\n",
    "    return browser.find_element(By.NAME, name)\n",
    "def finds_name(name, browser):\n",
    "    return browser.find_elements(By.NAME, name)\n",
    "\n",
    "def find_tagName(tag_name, browser):\n",
    "    return browser.find_element(By.TAG_NAME, tag_name)\n",
    "\n",
    "def finds_tagName(tag_name, browser):\n",
    "    return browser.find_elements(By.TAG_NAME, tag_name)\n",
    "\n",
    "def resource_path(relative_path):\n",
    "    \"\"\" Get absolute path to resource, works for dev and for PyInstaller \"\"\"\n",
    "    base_path = getattr(sys, '_MEIPASS', os.path.dirname(os.path.abspath(__file__)))\n",
    "    return os.path.join(base_path, relative_path)"
   ]
  },
  {
   "cell_type": "code",
   "execution_count": 2,
   "id": "5fbd1ac6",
   "metadata": {},
   "outputs": [],
   "source": [
    "def open_browser():\n",
    "    options = webdriver.ChromeOptions()\n",
    "    options.add_argument('--no--sandbox')\n",
    "    options.add_argument('no-sandbox')\n",
    "    options.add_argument('--disable-dev-shm-usage')\n",
    "    options.add_argument('--window-size=1080,800')\n",
    "    options.add_argument('incognito')\n",
    "    chrome_service = Service('chromedriver')\n",
    "    chrome_service = Service(executable_path=\"chromedriver.exe\")\n",
    "    \n",
    "    browser = webdriver.Chrome(service=chrome_service, options=options)\n",
    "    \n",
    "    return browser"
   ]
  },
  {
   "cell_type": "code",
   "execution_count": 3,
   "id": "b496697c",
   "metadata": {},
   "outputs": [],
   "source": [
    "def get_url(browser ,url):\n",
    "    browser.get(url)\n",
    "    time.sleep(1)"
   ]
  },
  {
   "cell_type": "code",
   "execution_count": 4,
   "id": "f79241b3",
   "metadata": {},
   "outputs": [
    {
     "data": {
      "text/plain": [
       "(34487, 8)"
      ]
     },
     "execution_count": 4,
     "metadata": {},
     "output_type": "execute_result"
    }
   ],
   "source": [
    "df = pd.read_excel('재무제표_dart\\\\감사보고서_재무제표.xlsx')\n",
    "df.shape"
   ]
  },
  {
   "cell_type": "code",
   "execution_count": 6,
   "id": "45e1b9c8",
   "metadata": {},
   "outputs": [
    {
     "name": "stdout",
     "output_type": "stream",
     "text": [
      "34487\n"
     ]
    }
   ],
   "source": [
    "url_list = df['주소'].tolist()\n",
    "print(len(url_list))"
   ]
  },
  {
   "cell_type": "code",
   "execution_count": 46,
   "id": "815756fc",
   "metadata": {},
   "outputs": [],
   "source": [
    "browser = open_browser()\n",
    "get_url(browser, url_list[1])\n",
    "\n",
    "time.sleep(1)\n",
    "\n",
    "target_text = \"주석\"\n",
    "element = browser.find_element(By.XPATH, f\"//a[text()='{target_text}']\")\n",
    "time.sleep(.5)\n",
    "element.click()\n",
    "time.sleep(.5)\n",
    "browser.switch_to.frame('ifrm')"
   ]
  },
  {
   "cell_type": "code",
   "execution_count": 145,
   "id": "ced13310",
   "metadata": {},
   "outputs": [
    {
     "name": "stdout",
     "output_type": "stream",
     "text": [
      "유형자산을 포함하는 p 태그를 찾을 수 없습니다.\n"
     ]
    }
   ],
   "source": [
    "soup = BS(browser.page_source, 'html.parser')\n",
    "\n",
    "pattern = re.compile(r'유형자산')\n",
    "type_asset_paragraph = soup.find('p', text=pattern)\n",
    "\n",
    "if type_asset_paragraph:\n",
    "    next_sibling = type_asset_paragraph.find_next_sibling()\n",
    "\n",
    "    current_paragraph = next_sibling\n",
    "    while current_paragraph:\n",
    "        if '당기' in current_paragraph.get_text():\n",
    "            break\n",
    "        current_paragraph = current_paragraph.find_next_sibling()\n",
    "\n",
    "    if current_paragraph:\n",
    "        table = current_paragraph.find_next('table')\n",
    "        print(table)\n",
    "    else:\n",
    "        print(\"해당하는 데이터를 찾을 수 없습니다.\")\n",
    "else:\n",
    "    print(\"유형자산을 포함하는 p 태그를 찾을 수 없습니다.\")"
   ]
  },
  {
   "cell_type": "code",
   "execution_count": 149,
   "id": "b25c0fc2",
   "metadata": {},
   "outputs": [
    {
     "name": "stdout",
     "output_type": "stream",
     "text": [
      "None\n"
     ]
    }
   ],
   "source": [
    "type_asset_paragraph = soup.find('p', text=re.compile(r'유형\\s*자\\s*산'))\n",
    "print(type_asset_paragraph)"
   ]
  },
  {
   "cell_type": "code",
   "execution_count": 132,
   "id": "40a04c3a",
   "metadata": {},
   "outputs": [
    {
     "name": "stdout",
     "output_type": "stream",
     "text": [
      "None\n"
     ]
    }
   ],
   "source": [
    "soup = BS(browser.page_source, 'html.parser')\n",
    "# print(soup.text)\n",
    "pattern = re.compile(r'유형자산', re.DOTALL)\n",
    "type_asset_paragraph = soup.find('p', text=pattern)\n",
    "print(type_asset_paragraph)"
   ]
  }
 ],
 "metadata": {
  "kernelspec": {
   "display_name": "Python 3 (ipykernel)",
   "language": "python",
   "name": "python3"
  },
  "language_info": {
   "codemirror_mode": {
    "name": "ipython",
    "version": 3
   },
   "file_extension": ".py",
   "mimetype": "text/x-python",
   "name": "python",
   "nbconvert_exporter": "python",
   "pygments_lexer": "ipython3",
   "version": "3.10.9"
  }
 },
 "nbformat": 4,
 "nbformat_minor": 5
}
