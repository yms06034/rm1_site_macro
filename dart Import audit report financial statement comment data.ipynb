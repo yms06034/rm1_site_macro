{
 "cells": [
  {
   "cell_type": "code",
   "execution_count": 74,
   "id": "f9000497",
   "metadata": {},
   "outputs": [],
   "source": [
    "from selenium import webdriver\n",
    "from selenium.webdriver.common.by import By\n",
    "from selenium.webdriver.common.keys import Keys\n",
    "from selenium.webdriver.chrome.options import Options\n",
    "from selenium.webdriver.chrome.service import Service\n",
    "from selenium.common.exceptions import NoSuchElementException\n",
    "from selenium.webdriver.support.ui import WebDriverWait\n",
    "from selenium.webdriver.support import expected_conditions as EC\n",
    "\n",
    "from webdriver_manager.chrome import ChromeDriverManager\n",
    "\n",
    "from bs4 import BeautifulSoup as BS\n",
    "from datetime import datetime\n",
    "\n",
    "from collections import Counter\n",
    "\n",
    "import pandas as pd\n",
    "import time\n",
    "import sys, os\n",
    "import re\n",
    "import json\n",
    "import random\n",
    "import numpy as np\n",
    "import re\n",
    "\n",
    "\n",
    "def find_css(css_selector, browser):\n",
    "    return browser.find_element(By.CSS_SELECTOR, css_selector)\n",
    "def finds_css(css_selector, browser):\n",
    "    return browser.find_elements(By.CSS_SELECTOR, css_selector)\n",
    "\n",
    "def find_xpath(xpath, browser):\n",
    "    return browser.find_element(By.XPATH, xpath)\n",
    "def finds_xpath(xpath, browser):\n",
    "    return browser.find_elements(By.XPATH, xpath)\n",
    "\n",
    "def find_id(e_id, browser):\n",
    "    return browser.find_element(By.ID, e_id)\n",
    "\n",
    "def find_className(cn, browser):\n",
    "    return browser.find_element(By.CLASS_NAME, cn)\n",
    "def finds_className(cn , browser):\n",
    "    return browser.find_elements(By.CLASS_NAME, cn)\n",
    "\n",
    "def find_linktext(lt, browser):\n",
    "    return browser.find_element(By.LINK_TEXT, lt)\n",
    "\n",
    "def find_name(name, browser):\n",
    "    return browser.find_element(By.NAME, name)\n",
    "def finds_name(name, browser):\n",
    "    return browser.find_elements(By.NAME, name)\n",
    "\n",
    "def find_tagName(tag_name, browser):\n",
    "    return browser.find_element(By.TAG_NAME, tag_name)\n",
    "\n",
    "def finds_tagName(tag_name, browser):\n",
    "    return browser.find_elements(By.TAG_NAME, tag_name)\n",
    "\n",
    "def resource_path(relative_path):\n",
    "    \"\"\" Get absolute path to resource, works for dev and for PyInstaller \"\"\"\n",
    "    base_path = getattr(sys, '_MEIPASS', os.path.dirname(os.path.abspath(__file__)))\n",
    "    return os.path.join(base_path, relative_path)"
   ]
  },
  {
   "cell_type": "code",
   "execution_count": 2,
   "id": "264df08d",
   "metadata": {},
   "outputs": [],
   "source": [
    "def open_browser():\n",
    "    options = webdriver.ChromeOptions()\n",
    "    options.add_argument('--no--sandbox')\n",
    "    options.add_argument('no-sandbox')\n",
    "    options.add_argument('--disable-dev-shm-usage')\n",
    "    options.add_argument('--window-size=1080,800')\n",
    "    options.add_argument('incognito')\n",
    "    chrome_service = Service('chromedriver')\n",
    "    chrome_service = Service(executable_path=\"chromedriver.exe\")\n",
    "    \n",
    "    browser = webdriver.Chrome(service=chrome_service, options=options)\n",
    "    \n",
    "    return browser"
   ]
  },
  {
   "cell_type": "code",
   "execution_count": 3,
   "id": "c419c518",
   "metadata": {},
   "outputs": [],
   "source": [
    "def get_url(browser ,url):\n",
    "    browser.get(url)\n",
    "    time.sleep(1)"
   ]
  },
  {
   "cell_type": "code",
   "execution_count": 4,
   "id": "f1a03cfd",
   "metadata": {},
   "outputs": [
    {
     "data": {
      "text/plain": [
       "(34487, 8)"
      ]
     },
     "execution_count": 4,
     "metadata": {},
     "output_type": "execute_result"
    }
   ],
   "source": [
    "df = pd.read_excel('재무제표_dart\\\\감사보고서_재무제표.xlsx')\n",
    "df.shape"
   ]
  },
  {
   "cell_type": "code",
   "execution_count": 6,
   "id": "98e4280d",
   "metadata": {},
   "outputs": [
    {
     "name": "stdout",
     "output_type": "stream",
     "text": [
      "34487\n"
     ]
    }
   ],
   "source": [
    "url_list = df['주소'].tolist()\n",
    "print(len(url_list))"
   ]
  },
  {
   "cell_type": "code",
   "execution_count": 46,
   "id": "8a96d6d7",
   "metadata": {},
   "outputs": [],
   "source": [
    "browser = open_browser()\n",
    "get_url(browser, url_list[1])\n",
    "\n",
    "time.sleep(1)\n",
    "\n",
    "target_text = \"주석\"\n",
    "element = browser.find_element(By.XPATH, f\"//a[text()='{target_text}']\")\n",
    "time.sleep(.5)\n",
    "element.click()\n",
    "time.sleep(.5)\n",
    "browser.switch_to.frame('ifrm')"
   ]
  },
  {
   "cell_type": "code",
   "execution_count": 150,
   "id": "6be2ea0c",
   "metadata": {},
   "outputs": [
    {
     "ename": "NoSuchWindowException",
     "evalue": "Message: no such window: target window already closed\nfrom unknown error: web view not found\n  (Session info: chrome=119.0.6045.125)\nStacktrace:\n\tGetHandleVerifier [0x00007FF617D182B2+55298]\n\t(No symbol) [0x00007FF617C85E02]\n\t(No symbol) [0x00007FF617B405AB]\n\t(No symbol) [0x00007FF617B20038]\n\t(No symbol) [0x00007FF617BA6BC7]\n\t(No symbol) [0x00007FF617BBA15F]\n\t(No symbol) [0x00007FF617BA1E83]\n\t(No symbol) [0x00007FF617B7670A]\n\t(No symbol) [0x00007FF617B77964]\n\tGetHandleVerifier [0x00007FF618090AAB+3694587]\n\tGetHandleVerifier [0x00007FF6180E728E+4048862]\n\tGetHandleVerifier [0x00007FF6180DF173+4015811]\n\tGetHandleVerifier [0x00007FF617DB47D6+695590]\n\t(No symbol) [0x00007FF617C90CE8]\n\t(No symbol) [0x00007FF617C8CF34]\n\t(No symbol) [0x00007FF617C8D062]\n\t(No symbol) [0x00007FF617C7D3A3]\n\tBaseThreadInitThunk [0x00007FFB8CF7257D+29]\n\tRtlUserThreadStart [0x00007FFB8DFAAA58+40]\n",
     "output_type": "error",
     "traceback": [
      "\u001b[1;31m---------------------------------------------------------------------------\u001b[0m",
      "\u001b[1;31mNoSuchWindowException\u001b[0m                     Traceback (most recent call last)",
      "Cell \u001b[1;32mIn[150], line 1\u001b[0m\n\u001b[1;32m----> 1\u001b[0m soup \u001b[38;5;241m=\u001b[39m BS(\u001b[43mbrowser\u001b[49m\u001b[38;5;241;43m.\u001b[39;49m\u001b[43mpage_source\u001b[49m, \u001b[38;5;124m'\u001b[39m\u001b[38;5;124mhtml.parser\u001b[39m\u001b[38;5;124m'\u001b[39m)\n\u001b[0;32m      3\u001b[0m pattern \u001b[38;5;241m=\u001b[39m re\u001b[38;5;241m.\u001b[39mcompile(\u001b[38;5;124mr\u001b[39m\u001b[38;5;124m'\u001b[39m\u001b[38;5;124m유형자산\u001b[39m\u001b[38;5;124m'\u001b[39m)\n\u001b[0;32m      4\u001b[0m type_asset_paragraph \u001b[38;5;241m=\u001b[39m soup\u001b[38;5;241m.\u001b[39mfind(\u001b[38;5;124m'\u001b[39m\u001b[38;5;124mp\u001b[39m\u001b[38;5;124m'\u001b[39m, text\u001b[38;5;241m=\u001b[39mpattern)\n",
      "File \u001b[1;32m~\\anaconda3\\lib\\site-packages\\selenium\\webdriver\\remote\\webdriver.py:541\u001b[0m, in \u001b[0;36mWebDriver.page_source\u001b[1;34m(self)\u001b[0m\n\u001b[0;32m    532\u001b[0m \u001b[38;5;129m@property\u001b[39m\n\u001b[0;32m    533\u001b[0m \u001b[38;5;28;01mdef\u001b[39;00m \u001b[38;5;21mpage_source\u001b[39m(\u001b[38;5;28mself\u001b[39m) \u001b[38;5;241m-\u001b[39m\u001b[38;5;241m>\u001b[39m \u001b[38;5;28mstr\u001b[39m:\n\u001b[0;32m    534\u001b[0m     \u001b[38;5;124;03m\"\"\"Gets the source of the current page.\u001b[39;00m\n\u001b[0;32m    535\u001b[0m \n\u001b[0;32m    536\u001b[0m \u001b[38;5;124;03m    :Usage:\u001b[39;00m\n\u001b[1;32m   (...)\u001b[0m\n\u001b[0;32m    539\u001b[0m \u001b[38;5;124;03m            driver.page_source\u001b[39;00m\n\u001b[0;32m    540\u001b[0m \u001b[38;5;124;03m    \"\"\"\u001b[39;00m\n\u001b[1;32m--> 541\u001b[0m     \u001b[38;5;28;01mreturn\u001b[39;00m \u001b[38;5;28;43mself\u001b[39;49m\u001b[38;5;241;43m.\u001b[39;49m\u001b[43mexecute\u001b[49m\u001b[43m(\u001b[49m\u001b[43mCommand\u001b[49m\u001b[38;5;241;43m.\u001b[39;49m\u001b[43mGET_PAGE_SOURCE\u001b[49m\u001b[43m)\u001b[49m[\u001b[38;5;124m\"\u001b[39m\u001b[38;5;124mvalue\u001b[39m\u001b[38;5;124m\"\u001b[39m]\n",
      "File \u001b[1;32m~\\anaconda3\\lib\\site-packages\\selenium\\webdriver\\remote\\webdriver.py:440\u001b[0m, in \u001b[0;36mWebDriver.execute\u001b[1;34m(self, driver_command, params)\u001b[0m\n\u001b[0;32m    438\u001b[0m response \u001b[38;5;241m=\u001b[39m \u001b[38;5;28mself\u001b[39m\u001b[38;5;241m.\u001b[39mcommand_executor\u001b[38;5;241m.\u001b[39mexecute(driver_command, params)\n\u001b[0;32m    439\u001b[0m \u001b[38;5;28;01mif\u001b[39;00m response:\n\u001b[1;32m--> 440\u001b[0m     \u001b[38;5;28;43mself\u001b[39;49m\u001b[38;5;241;43m.\u001b[39;49m\u001b[43merror_handler\u001b[49m\u001b[38;5;241;43m.\u001b[39;49m\u001b[43mcheck_response\u001b[49m\u001b[43m(\u001b[49m\u001b[43mresponse\u001b[49m\u001b[43m)\u001b[49m\n\u001b[0;32m    441\u001b[0m     response[\u001b[38;5;124m\"\u001b[39m\u001b[38;5;124mvalue\u001b[39m\u001b[38;5;124m\"\u001b[39m] \u001b[38;5;241m=\u001b[39m \u001b[38;5;28mself\u001b[39m\u001b[38;5;241m.\u001b[39m_unwrap_value(response\u001b[38;5;241m.\u001b[39mget(\u001b[38;5;124m\"\u001b[39m\u001b[38;5;124mvalue\u001b[39m\u001b[38;5;124m\"\u001b[39m, \u001b[38;5;28;01mNone\u001b[39;00m))\n\u001b[0;32m    442\u001b[0m     \u001b[38;5;28;01mreturn\u001b[39;00m response\n",
      "File \u001b[1;32m~\\anaconda3\\lib\\site-packages\\selenium\\webdriver\\remote\\errorhandler.py:245\u001b[0m, in \u001b[0;36mErrorHandler.check_response\u001b[1;34m(self, response)\u001b[0m\n\u001b[0;32m    243\u001b[0m         alert_text \u001b[38;5;241m=\u001b[39m value[\u001b[38;5;124m\"\u001b[39m\u001b[38;5;124malert\u001b[39m\u001b[38;5;124m\"\u001b[39m]\u001b[38;5;241m.\u001b[39mget(\u001b[38;5;124m\"\u001b[39m\u001b[38;5;124mtext\u001b[39m\u001b[38;5;124m\"\u001b[39m)\n\u001b[0;32m    244\u001b[0m     \u001b[38;5;28;01mraise\u001b[39;00m exception_class(message, screen, stacktrace, alert_text)  \u001b[38;5;66;03m# type: ignore[call-arg]  # mypy is not smart enough here\u001b[39;00m\n\u001b[1;32m--> 245\u001b[0m \u001b[38;5;28;01mraise\u001b[39;00m exception_class(message, screen, stacktrace)\n",
      "\u001b[1;31mNoSuchWindowException\u001b[0m: Message: no such window: target window already closed\nfrom unknown error: web view not found\n  (Session info: chrome=119.0.6045.125)\nStacktrace:\n\tGetHandleVerifier [0x00007FF617D182B2+55298]\n\t(No symbol) [0x00007FF617C85E02]\n\t(No symbol) [0x00007FF617B405AB]\n\t(No symbol) [0x00007FF617B20038]\n\t(No symbol) [0x00007FF617BA6BC7]\n\t(No symbol) [0x00007FF617BBA15F]\n\t(No symbol) [0x00007FF617BA1E83]\n\t(No symbol) [0x00007FF617B7670A]\n\t(No symbol) [0x00007FF617B77964]\n\tGetHandleVerifier [0x00007FF618090AAB+3694587]\n\tGetHandleVerifier [0x00007FF6180E728E+4048862]\n\tGetHandleVerifier [0x00007FF6180DF173+4015811]\n\tGetHandleVerifier [0x00007FF617DB47D6+695590]\n\t(No symbol) [0x00007FF617C90CE8]\n\t(No symbol) [0x00007FF617C8CF34]\n\t(No symbol) [0x00007FF617C8D062]\n\t(No symbol) [0x00007FF617C7D3A3]\n\tBaseThreadInitThunk [0x00007FFB8CF7257D+29]\n\tRtlUserThreadStart [0x00007FFB8DFAAA58+40]\n"
     ]
    }
   ],
   "source": [
    "soup = BS(browser.page_source, 'html.parser')\n",
    "\n",
    "pattern = re.compile(r'유형자산')\n",
    "type_asset_paragraph = soup.find('p', text=pattern)\n",
    "\n",
    "if type_asset_paragraph:\n",
    "    next_sibling = type_asset_paragraph.find_next_sibling()\n",
    "\n",
    "    current_paragraph = next_sibling\n",
    "    while current_paragraph:\n",
    "        if '당기' in current_paragraph.get_text():\n",
    "            break\n",
    "        current_paragraph = current_paragraph.find_next_sibling()\n",
    "\n",
    "    if current_paragraph:\n",
    "        table = current_paragraph.find_next('table')\n",
    "        print(table)\n",
    "    else:\n",
    "        print(\"해당하는 데이터를 찾을 수 없습니다.\")\n",
    "else:\n",
    "    print(\"유형자산을 포함하는 p 태그를 찾을 수 없습니다.\")"
   ]
  },
  {
   "cell_type": "code",
   "execution_count": 149,
   "id": "e5ca9a8a",
   "metadata": {},
   "outputs": [
    {
     "name": "stdout",
     "output_type": "stream",
     "text": [
      "None\n"
     ]
    }
   ],
   "source": [
    "type_asset_paragraph = soup.find('p', text=re.compile(r'유형\\s*자\\s*산'))\n",
    "print(type_asset_paragraph)"
   ]
  },
  {
   "cell_type": "code",
   "execution_count": 132,
   "id": "55e8c042",
   "metadata": {},
   "outputs": [
    {
     "name": "stdout",
     "output_type": "stream",
     "text": [
      "None\n"
     ]
    }
   ],
   "source": [
    "soup = BS(browser.page_source, 'html.parser')\n",
    "# print(soup.text)\n",
    "pattern = re.compile(r'유형자산', re.DOTALL)\n",
    "type_asset_paragraph = soup.find('p', text=pattern)\n",
    "print(type_asset_paragraph)"
   ]
  }
 ],
 "metadata": {
  "kernelspec": {
   "display_name": "Python 3 (ipykernel)",
   "language": "python",
   "name": "python3"
  },
  "language_info": {
   "codemirror_mode": {
    "name": "ipython",
    "version": 3
   },
   "file_extension": ".py",
   "mimetype": "text/x-python",
   "name": "python",
   "nbconvert_exporter": "python",
   "pygments_lexer": "ipython3",
   "version": "3.10.9"
  }
 },
 "nbformat": 4,
 "nbformat_minor": 5
}
