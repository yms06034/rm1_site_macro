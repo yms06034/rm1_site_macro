{
 "cells": [
  {
   "cell_type": "code",
   "execution_count": 1,
   "id": "55b5a990",
   "metadata": {},
   "outputs": [],
   "source": [
    "from selenium import webdriver\n",
    "from selenium.webdriver.common.by import By\n",
    "from selenium.webdriver.common.keys import Keys\n",
    "from selenium.webdriver.chrome.options import Options\n",
    "from selenium.webdriver.chrome.service import Service\n",
    "from selenium.common.exceptions import NoSuchElementException\n",
    "from selenium.webdriver.support.ui import WebDriverWait\n",
    "from selenium.webdriver.support import expected_conditions as EC\n",
    "\n",
    "from webdriver_manager.chrome import ChromeDriverManager\n",
    "\n",
    "from bs4 import BeautifulSoup as BS\n",
    "from datetime import datetime\n",
    "\n",
    "import pandas as pd\n",
    "import time\n",
    "import sys, os\n",
    "import re\n",
    "import json\n",
    "import random\n",
    "\n",
    "\n",
    "def find_css(css_selector, browser):\n",
    "    return browser.find_element(By.CSS_SELECTOR, css_selector)\n",
    "def finds_css(css_selector, browser):\n",
    "    return browser.find_elements(By.CSS_SELECTOR, css_selector)\n",
    "\n",
    "def find_xpath(xpath, browser):\n",
    "    return browser.find_element(By.XPATH, xpath)\n",
    "def finds_xpath(xpath, browser):\n",
    "    return browser.find_elements(By.XPATH, xpath)\n",
    "\n",
    "def find_id(e_id, browser):\n",
    "    return browser.find_element(By.ID, e_id)\n",
    "\n",
    "def find_className(cn, browser):\n",
    "    return browser.find_element(By.CLASS_NAME, cn)\n",
    "def finds_className(cn , browser):\n",
    "    return browser.find_elements(By.CLASS_NAME, cn)\n",
    "\n",
    "def find_linktext(lt, browser):\n",
    "    return browser.find_element(By.LINK_TEXT, lt)\n",
    "\n",
    "def find_name(name, browser):\n",
    "    return browser.find_element(By.NAME, name)\n",
    "def finds_name(name, browser):\n",
    "    return browser.find_elements(By.NAME, name)\n",
    "\n",
    "def find_tagName(tag_name, browser):\n",
    "    return browser.find_element(By.TAG_NAME, tag_name)\n",
    "\n",
    "def finds_tagName(tag_name, browser):\n",
    "    return browser.find_elements(By.TAG_NAME, tag_name)\n",
    "\n",
    "def resource_path(relative_path):\n",
    "    \"\"\" Get absolute path to resource, works for dev and for PyInstaller \"\"\"\n",
    "    base_path = getattr(sys, '_MEIPASS', os.path.dirname(os.path.abspath(__file__)))\n",
    "    return os.path.join(base_path, relative_path)"
   ]
  },
  {
   "cell_type": "code",
   "execution_count": 5,
   "id": "4859fb86",
   "metadata": {},
   "outputs": [],
   "source": [
    "def open_browser():\n",
    "    options = webdriver.ChromeOptions()\n",
    "    options.add_argument('--no--sandbox')\n",
    "    options.add_argument('no-sandbox')\n",
    "    options.add_argument('--disable-dev-shm-usage')\n",
    "    options.add_argument('--window-size=1080,800')\n",
    "    options.add_argument('incognito')\n",
    "    chrome_service = Service('chromedriver')\n",
    "    chrome_service = Service(executable_path=\"chromedriver.exe\")\n",
    "    \n",
    "    browser = webdriver.Chrome(service=chrome_service, options=options)\n",
    "    browser.get('https://dart.fss.or.kr/')\n",
    "    \n",
    "    return browser"
   ]
  },
  {
   "cell_type": "code",
   "execution_count": 15,
   "id": "a5f8a944",
   "metadata": {},
   "outputs": [],
   "source": [
    "df = pd.read_excel('상위\\\\상위_회사이름_list.xlsx')\n",
    "df['회사이름'] = df['회사이름'].str.replace(r'\\(.*\\)', '', regex=True)\n",
    "company_name_list = df['회사이름'].tolist()"
   ]
  },
  {
   "cell_type": "code",
   "execution_count": 7,
   "id": "b10504b8",
   "metadata": {},
   "outputs": [],
   "source": [
    "browser = open_browser()"
   ]
  },
  {
   "cell_type": "code",
   "execution_count": 20,
   "id": "89dcf033",
   "metadata": {
    "collapsed": true
   },
   "outputs": [
    {
     "ename": "InvalidElementStateException",
     "evalue": "Message: invalid element state: Element is not currently interactable and may not be manipulated\n  (Session info: chrome=119.0.6045.106)\nStacktrace:\n\tGetHandleVerifier [0x00007FF742D182B2+55298]\n\t(No symbol) [0x00007FF742C85E02]\n\t(No symbol) [0x00007FF742B405AB]\n\t(No symbol) [0x00007FF742B4509C]\n\t(No symbol) [0x00007FF742B46FDF]\n\t(No symbol) [0x00007FF742B470D0]\n\t(No symbol) [0x00007FF742B7A22B]\n\t(No symbol) [0x00007FF742BA20AA]\n\t(No symbol) [0x00007FF742B780CF]\n\t(No symbol) [0x00007FF742BA22C0]\n\t(No symbol) [0x00007FF742BBAAA4]\n\t(No symbol) [0x00007FF742BA1E83]\n\t(No symbol) [0x00007FF742B7670A]\n\t(No symbol) [0x00007FF742B77964]\n\tGetHandleVerifier [0x00007FF743090AAB+3694587]\n\tGetHandleVerifier [0x00007FF7430E728E+4048862]\n\tGetHandleVerifier [0x00007FF7430DF173+4015811]\n\tGetHandleVerifier [0x00007FF742DB47D6+695590]\n\t(No symbol) [0x00007FF742C90CE8]\n\t(No symbol) [0x00007FF742C8CF34]\n\t(No symbol) [0x00007FF742C8D062]\n\t(No symbol) [0x00007FF742C7D3A3]\n\tBaseThreadInitThunk [0x00007FFD6889257D+29]\n\tRtlUserThreadStart [0x00007FFD6A10AA78+40]\n",
     "output_type": "error",
     "traceback": [
      "\u001b[1;31m---------------------------------------------------------------------------\u001b[0m",
      "\u001b[1;31mInvalidElementStateException\u001b[0m              Traceback (most recent call last)",
      "Cell \u001b[1;32mIn[20], line 3\u001b[0m\n\u001b[0;32m      1\u001b[0m main_search_input \u001b[38;5;241m=\u001b[39m find_id(\u001b[38;5;124m'\u001b[39m\u001b[38;5;124mtextCrpNm2\u001b[39m\u001b[38;5;124m'\u001b[39m, browser)\n\u001b[1;32m----> 3\u001b[0m \u001b[43mmain_search_input\u001b[49m\u001b[38;5;241;43m.\u001b[39;49m\u001b[43mclear\u001b[49m\u001b[43m(\u001b[49m\u001b[43m)\u001b[49m\n\u001b[0;32m      4\u001b[0m main_search_input\u001b[38;5;241m.\u001b[39msend_keys(company_name_list[\u001b[38;5;241m1\u001b[39m])\n\u001b[0;32m      5\u001b[0m main_search_input\u001b[38;5;241m.\u001b[39msend_keys(\u001b[38;5;124m\"\u001b[39m\u001b[38;5;130;01m\\n\u001b[39;00m\u001b[38;5;124m\"\u001b[39m)\n",
      "File \u001b[1;32m~\\anaconda3\\lib\\site-packages\\selenium\\webdriver\\remote\\webelement.py:117\u001b[0m, in \u001b[0;36mWebElement.clear\u001b[1;34m(self)\u001b[0m\n\u001b[0;32m    115\u001b[0m \u001b[38;5;28;01mdef\u001b[39;00m \u001b[38;5;21mclear\u001b[39m(\u001b[38;5;28mself\u001b[39m) \u001b[38;5;241m-\u001b[39m\u001b[38;5;241m>\u001b[39m \u001b[38;5;28;01mNone\u001b[39;00m:\n\u001b[0;32m    116\u001b[0m     \u001b[38;5;124;03m\"\"\"Clears the text if it's a text entry element.\"\"\"\u001b[39;00m\n\u001b[1;32m--> 117\u001b[0m     \u001b[38;5;28;43mself\u001b[39;49m\u001b[38;5;241;43m.\u001b[39;49m\u001b[43m_execute\u001b[49m\u001b[43m(\u001b[49m\u001b[43mCommand\u001b[49m\u001b[38;5;241;43m.\u001b[39;49m\u001b[43mCLEAR_ELEMENT\u001b[49m\u001b[43m)\u001b[49m\n",
      "File \u001b[1;32m~\\anaconda3\\lib\\site-packages\\selenium\\webdriver\\remote\\webelement.py:404\u001b[0m, in \u001b[0;36mWebElement._execute\u001b[1;34m(self, command, params)\u001b[0m\n\u001b[0;32m    402\u001b[0m     params \u001b[38;5;241m=\u001b[39m {}\n\u001b[0;32m    403\u001b[0m params[\u001b[38;5;124m\"\u001b[39m\u001b[38;5;124mid\u001b[39m\u001b[38;5;124m\"\u001b[39m] \u001b[38;5;241m=\u001b[39m \u001b[38;5;28mself\u001b[39m\u001b[38;5;241m.\u001b[39m_id\n\u001b[1;32m--> 404\u001b[0m \u001b[38;5;28;01mreturn\u001b[39;00m \u001b[38;5;28;43mself\u001b[39;49m\u001b[38;5;241;43m.\u001b[39;49m\u001b[43m_parent\u001b[49m\u001b[38;5;241;43m.\u001b[39;49m\u001b[43mexecute\u001b[49m\u001b[43m(\u001b[49m\u001b[43mcommand\u001b[49m\u001b[43m,\u001b[49m\u001b[43m \u001b[49m\u001b[43mparams\u001b[49m\u001b[43m)\u001b[49m\n",
      "File \u001b[1;32m~\\anaconda3\\lib\\site-packages\\selenium\\webdriver\\remote\\webdriver.py:440\u001b[0m, in \u001b[0;36mWebDriver.execute\u001b[1;34m(self, driver_command, params)\u001b[0m\n\u001b[0;32m    438\u001b[0m response \u001b[38;5;241m=\u001b[39m \u001b[38;5;28mself\u001b[39m\u001b[38;5;241m.\u001b[39mcommand_executor\u001b[38;5;241m.\u001b[39mexecute(driver_command, params)\n\u001b[0;32m    439\u001b[0m \u001b[38;5;28;01mif\u001b[39;00m response:\n\u001b[1;32m--> 440\u001b[0m     \u001b[38;5;28;43mself\u001b[39;49m\u001b[38;5;241;43m.\u001b[39;49m\u001b[43merror_handler\u001b[49m\u001b[38;5;241;43m.\u001b[39;49m\u001b[43mcheck_response\u001b[49m\u001b[43m(\u001b[49m\u001b[43mresponse\u001b[49m\u001b[43m)\u001b[49m\n\u001b[0;32m    441\u001b[0m     response[\u001b[38;5;124m\"\u001b[39m\u001b[38;5;124mvalue\u001b[39m\u001b[38;5;124m\"\u001b[39m] \u001b[38;5;241m=\u001b[39m \u001b[38;5;28mself\u001b[39m\u001b[38;5;241m.\u001b[39m_unwrap_value(response\u001b[38;5;241m.\u001b[39mget(\u001b[38;5;124m\"\u001b[39m\u001b[38;5;124mvalue\u001b[39m\u001b[38;5;124m\"\u001b[39m, \u001b[38;5;28;01mNone\u001b[39;00m))\n\u001b[0;32m    442\u001b[0m     \u001b[38;5;28;01mreturn\u001b[39;00m response\n",
      "File \u001b[1;32m~\\anaconda3\\lib\\site-packages\\selenium\\webdriver\\remote\\errorhandler.py:245\u001b[0m, in \u001b[0;36mErrorHandler.check_response\u001b[1;34m(self, response)\u001b[0m\n\u001b[0;32m    243\u001b[0m         alert_text \u001b[38;5;241m=\u001b[39m value[\u001b[38;5;124m\"\u001b[39m\u001b[38;5;124malert\u001b[39m\u001b[38;5;124m\"\u001b[39m]\u001b[38;5;241m.\u001b[39mget(\u001b[38;5;124m\"\u001b[39m\u001b[38;5;124mtext\u001b[39m\u001b[38;5;124m\"\u001b[39m)\n\u001b[0;32m    244\u001b[0m     \u001b[38;5;28;01mraise\u001b[39;00m exception_class(message, screen, stacktrace, alert_text)  \u001b[38;5;66;03m# type: ignore[call-arg]  # mypy is not smart enough here\u001b[39;00m\n\u001b[1;32m--> 245\u001b[0m \u001b[38;5;28;01mraise\u001b[39;00m exception_class(message, screen, stacktrace)\n",
      "\u001b[1;31mInvalidElementStateException\u001b[0m: Message: invalid element state: Element is not currently interactable and may not be manipulated\n  (Session info: chrome=119.0.6045.106)\nStacktrace:\n\tGetHandleVerifier [0x00007FF742D182B2+55298]\n\t(No symbol) [0x00007FF742C85E02]\n\t(No symbol) [0x00007FF742B405AB]\n\t(No symbol) [0x00007FF742B4509C]\n\t(No symbol) [0x00007FF742B46FDF]\n\t(No symbol) [0x00007FF742B470D0]\n\t(No symbol) [0x00007FF742B7A22B]\n\t(No symbol) [0x00007FF742BA20AA]\n\t(No symbol) [0x00007FF742B780CF]\n\t(No symbol) [0x00007FF742BA22C0]\n\t(No symbol) [0x00007FF742BBAAA4]\n\t(No symbol) [0x00007FF742BA1E83]\n\t(No symbol) [0x00007FF742B7670A]\n\t(No symbol) [0x00007FF742B77964]\n\tGetHandleVerifier [0x00007FF743090AAB+3694587]\n\tGetHandleVerifier [0x00007FF7430E728E+4048862]\n\tGetHandleVerifier [0x00007FF7430DF173+4015811]\n\tGetHandleVerifier [0x00007FF742DB47D6+695590]\n\t(No symbol) [0x00007FF742C90CE8]\n\t(No symbol) [0x00007FF742C8CF34]\n\t(No symbol) [0x00007FF742C8D062]\n\t(No symbol) [0x00007FF742C7D3A3]\n\tBaseThreadInitThunk [0x00007FFD6889257D+29]\n\tRtlUserThreadStart [0x00007FFD6A10AA78+40]\n"
     ]
    }
   ],
   "source": [
    "main_search_input = find_id('textCrpNm2', browser)\n",
    "\n",
    "main_search_input.clear()\n",
    "main_search_input.send_keys(company_name_list[1])\n",
    "main_search_input.send_keys(\"\\n\")"
   ]
  },
  {
   "cell_type": "code",
   "execution_count": 22,
   "id": "cb8a21d5",
   "metadata": {},
   "outputs": [],
   "source": [
    "sub_search_input = find_id('textCrpNm', browser)\n",
    "\n",
    "sub_search_input.clear()\n",
    "sub_search_input.send_keys(company_name_list[2])\n",
    "sub_search_input.send_keys(\"\\n\")"
   ]
  },
  {
   "cell_type": "code",
   "execution_count": 24,
   "id": "2d81b945",
   "metadata": {},
   "outputs": [
    {
     "data": {
      "text/plain": [
       "<selenium.webdriver.remote.webelement.WebElement (session=\"30d2658c9b5a496ca7e5a83880512ec8\", element=\"F7768651BF705EF408620882CDA2AC84_element_65731\")>"
      ]
     },
     "execution_count": 24,
     "metadata": {},
     "output_type": "execute_result"
    }
   ],
   "source": [
    "Bfind_className('tbList', browser)"
   ]
  }
 ],
 "metadata": {
  "kernelspec": {
   "display_name": "Python 3 (ipykernel)",
   "language": "python",
   "name": "python3"
  },
  "language_info": {
   "codemirror_mode": {
    "name": "ipython",
    "version": 3
   },
   "file_extension": ".py",
   "mimetype": "text/x-python",
   "name": "python",
   "nbconvert_exporter": "python",
   "pygments_lexer": "ipython3",
   "version": "3.10.9"
  }
 },
 "nbformat": 4,
 "nbformat_minor": 5
}
