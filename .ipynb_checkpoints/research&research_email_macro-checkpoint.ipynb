{
 "cells": [
  {
   "cell_type": "code",
   "execution_count": 1,
   "id": "02cae64d",
   "metadata": {},
   "outputs": [],
   "source": [
    "from selenium import webdriver\n",
    "from selenium.webdriver.common.by import By\n",
    "from selenium.webdriver.common.keys import Keys\n",
    "from selenium.webdriver.chrome.options import Options\n",
    "from selenium.webdriver.chrome.service import Service\n",
    "from selenium.common.exceptions import NoSuchElementException\n",
    "from selenium.webdriver.support.ui import WebDriverWait\n",
    "from selenium.webdriver.support import expected_conditions as EC\n",
    "\n",
    "from webdriver_manager.chrome import ChromeDriverManager\n",
    "\n",
    "from bs4 import BeautifulSoup as BS\n",
    "from datetime import datetime\n",
    "\n",
    "import pandas as pd\n",
    "import time\n",
    "import sys, os\n",
    "import re\n",
    "import json\n",
    "import random\n",
    "\n",
    "\n",
    "def find_css(css_selector, browser):\n",
    "    return browser.find_element(By.CSS_SELECTOR, css_selector)\n",
    "def finds_css(css_selector, browser):\n",
    "    return browser.find_elements(By.CSS_SELECTOR, css_selector)\n",
    "\n",
    "def find_xpath(xpath, browser):\n",
    "    return browser.find_element(By.XPATH, xpath)\n",
    "def finds_xpath(xpath, browser):\n",
    "    return browser.find_elements(By.XPATH, xpath)\n",
    "\n",
    "def find_id(e_id, browser):\n",
    "    return browser.find_element(By.ID, e_id)\n",
    "\n",
    "def find_className(cn, browser):\n",
    "    return browser.find_element(By.CLASS_NAME, cn)\n",
    "def finds_className(cn , browser):\n",
    "    return browser.find_elements(By.CLASS_NAME, cn)\n",
    "\n",
    "def find_linktext(lt, browser):\n",
    "    return browser.find_element(By.LINK_TEXT, lt)\n",
    "\n",
    "def find_name(name, browser):\n",
    "    return browser.find_element(By.NAME, name)\n",
    "def finds_name(name, browser):\n",
    "    return browser.find_elements(By.NAME, name)\n",
    "\n",
    "def find_tagName(tag_name, browser):\n",
    "    return browser.find_element(By.TAG_NAME, tag_name)\n",
    "\n",
    "def finds_tagName(tag_name, browser):\n",
    "    return browser.find_elements(By.TAG_NAME, tag_name)\n",
    "\n",
    "def resource_path(relative_path):\n",
    "    \"\"\" Get absolute path to resource, works for dev and for PyInstaller \"\"\"\n",
    "    base_path = getattr(sys, '_MEIPASS', os.path.dirname(os.path.abspath(__file__)))\n",
    "    return os.path.join(base_path, relative_path)"
   ]
  },
  {
   "cell_type": "code",
   "execution_count": 96,
   "id": "bcb73153",
   "metadata": {},
   "outputs": [],
   "source": [
    "df_sw = pd.read_excel('sw_email_list(1109).xlsx')\n",
    "sw_email_list = df_sw['email'].tolist()\n",
    "\n",
    "df_ict = pd.read_excel('월보1_email_list(1109).xlsx')\n",
    "ict_email_list = df_ict['email'].tolist()"
   ]
  },
  {
   "cell_type": "code",
   "execution_count": 97,
   "id": "49867c9a",
   "metadata": {},
   "outputs": [],
   "source": [
    "def open_browser():\n",
    "    options = webdriver.ChromeOptions()\n",
    "    options.add_argument('--no--sandbox')\n",
    "    options.add_argument('no-sandbox')\n",
    "    options.add_argument('--disable-dev-shm-usage')\n",
    "    options.add_argument('--window-size=1080,800')\n",
    "    options.add_argument('incognito')\n",
    "    chrome_service = Service('chromedriver')\n",
    "    chrome_service = Service(executable_path=\"chromedriver.exe\")\n",
    "    \n",
    "    browser = webdriver.Chrome(service=chrome_service, options=options)\n",
    "    browser.get('http://gw.randr.co.kr/home/')\n",
    "    \n",
    "    return browser"
   ]
  },
  {
   "cell_type": "code",
   "execution_count": 98,
   "id": "8424d5cd",
   "metadata": {},
   "outputs": [],
   "source": [
    "def login_session_mail_click(browser):\n",
    "    find_name('userId', browser).send_keys('dhkim')\n",
    "    time.sleep(1)\n",
    "    find_name('password', browser).send_keys('dh1122@@')\n",
    "    time.sleep(.5)\n",
    "    find_name('password', browser).send_keys('\\n')\n",
    "    time.sleep(1)\n",
    "    browser.get('http://gw.randr.co.kr/mai/')"
   ]
  },
  {
   "cell_type": "code",
   "execution_count": 99,
   "id": "5f535692",
   "metadata": {},
   "outputs": [],
   "source": [
    "browser = open_browser()\n",
    "login_session_mail_click(browser)"
   ]
  },
  {
   "cell_type": "code",
   "execution_count": 80,
   "id": "6e679e26",
   "metadata": {},
   "outputs": [],
   "source": [
    "title = \"ICT 품목동향조사 협조요청의 건 [과학기술정보통신부&KAIT]\""
   ]
  },
  {
   "cell_type": "code",
   "execution_count": 81,
   "id": "ca3ea5cd",
   "metadata": {},
   "outputs": [],
   "source": [
    "def writing_mail(browser, title, html_code):\n",
    "    time.sleep(2)\n",
    "    \n",
    "    find_id('mail_tit', browser).send_keys(title)"
   ]
  },
  {
   "cell_type": "code",
   "execution_count": 100,
   "id": "ae139ba2",
   "metadata": {},
   "outputs": [],
   "source": [
    "browser.switch_to.frame('content_frame')"
   ]
  },
  {
   "cell_type": "code",
   "execution_count": 45,
   "id": "7da2f442",
   "metadata": {},
   "outputs": [],
   "source": [
    "find_xpath('/html/body/div[1]/div[2]/aside[1]/div/div/nav/ul[3]/li[3]', browser).click()"
   ]
  },
  {
   "cell_type": "code",
   "execution_count": 46,
   "id": "3e297aa6",
   "metadata": {},
   "outputs": [],
   "source": [
    "# 첫번째 email click\n",
    "find_xpath('/html/body/div[1]/div[2]/div/div/section/div[11]/div/div/div[1]/div/div/table/tbody/tr[1]/td[4]/span', browser).click()"
   ]
  },
  {
   "cell_type": "code",
   "execution_count": 82,
   "id": "18025672",
   "metadata": {
    "collapsed": true
   },
   "outputs": [
    {
     "ename": "NoSuchElementException",
     "evalue": "Message: no such element: Unable to locate element: {\"method\":\"css selector\",\"selector\":\"[id=\"forwardBtn\"]\"}\n  (Session info: chrome=119.0.6045.106)\nStacktrace:\n\tGetHandleVerifier [0x00007FF742D182B2+55298]\n\t(No symbol) [0x00007FF742C85E02]\n\t(No symbol) [0x00007FF742B405AB]\n\t(No symbol) [0x00007FF742B8175C]\n\t(No symbol) [0x00007FF742B818DC]\n\t(No symbol) [0x00007FF742BBCBC7]\n\t(No symbol) [0x00007FF742BA20EF]\n\t(No symbol) [0x00007FF742BBAAA4]\n\t(No symbol) [0x00007FF742BA1E83]\n\t(No symbol) [0x00007FF742B7670A]\n\t(No symbol) [0x00007FF742B77964]\n\tGetHandleVerifier [0x00007FF743090AAB+3694587]\n\tGetHandleVerifier [0x00007FF7430E728E+4048862]\n\tGetHandleVerifier [0x00007FF7430DF173+4015811]\n\tGetHandleVerifier [0x00007FF742DB47D6+695590]\n\t(No symbol) [0x00007FF742C90CE8]\n\t(No symbol) [0x00007FF742C8CF34]\n\t(No symbol) [0x00007FF742C8D062]\n\t(No symbol) [0x00007FF742C7D3A3]\n\tBaseThreadInitThunk [0x00007FFD6889257D+29]\n\tRtlUserThreadStart [0x00007FFD6A10AA78+40]\n",
     "output_type": "error",
     "traceback": [
      "\u001b[1;31m---------------------------------------------------------------------------\u001b[0m",
      "\u001b[1;31mNoSuchElementException\u001b[0m                    Traceback (most recent call last)",
      "Cell \u001b[1;32mIn[82], line 2\u001b[0m\n\u001b[0;32m      1\u001b[0m \u001b[38;5;66;03m# 전달 click\u001b[39;00m\n\u001b[1;32m----> 2\u001b[0m \u001b[43mfind_id\u001b[49m\u001b[43m(\u001b[49m\u001b[38;5;124;43m'\u001b[39;49m\u001b[38;5;124;43mforwardBtn\u001b[39;49m\u001b[38;5;124;43m'\u001b[39;49m\u001b[43m,\u001b[49m\u001b[43m \u001b[49m\u001b[43mbrowser\u001b[49m\u001b[43m)\u001b[49m\u001b[38;5;241m.\u001b[39mclick()\n",
      "Cell \u001b[1;32mIn[1], line 34\u001b[0m, in \u001b[0;36mfind_id\u001b[1;34m(e_id, browser)\u001b[0m\n\u001b[0;32m     33\u001b[0m \u001b[38;5;28;01mdef\u001b[39;00m \u001b[38;5;21mfind_id\u001b[39m(e_id, browser):\n\u001b[1;32m---> 34\u001b[0m     \u001b[38;5;28;01mreturn\u001b[39;00m \u001b[43mbrowser\u001b[49m\u001b[38;5;241;43m.\u001b[39;49m\u001b[43mfind_element\u001b[49m\u001b[43m(\u001b[49m\u001b[43mBy\u001b[49m\u001b[38;5;241;43m.\u001b[39;49m\u001b[43mID\u001b[49m\u001b[43m,\u001b[49m\u001b[43m \u001b[49m\u001b[43me_id\u001b[49m\u001b[43m)\u001b[49m\n",
      "File \u001b[1;32m~\\anaconda3\\lib\\site-packages\\selenium\\webdriver\\remote\\webdriver.py:831\u001b[0m, in \u001b[0;36mWebDriver.find_element\u001b[1;34m(self, by, value)\u001b[0m\n\u001b[0;32m    828\u001b[0m     by \u001b[38;5;241m=\u001b[39m By\u001b[38;5;241m.\u001b[39mCSS_SELECTOR\n\u001b[0;32m    829\u001b[0m     value \u001b[38;5;241m=\u001b[39m \u001b[38;5;124mf\u001b[39m\u001b[38;5;124m'\u001b[39m\u001b[38;5;124m[name=\u001b[39m\u001b[38;5;124m\"\u001b[39m\u001b[38;5;132;01m{\u001b[39;00mvalue\u001b[38;5;132;01m}\u001b[39;00m\u001b[38;5;124m\"\u001b[39m\u001b[38;5;124m]\u001b[39m\u001b[38;5;124m'\u001b[39m\n\u001b[1;32m--> 831\u001b[0m \u001b[38;5;28;01mreturn\u001b[39;00m \u001b[38;5;28;43mself\u001b[39;49m\u001b[38;5;241;43m.\u001b[39;49m\u001b[43mexecute\u001b[49m\u001b[43m(\u001b[49m\u001b[43mCommand\u001b[49m\u001b[38;5;241;43m.\u001b[39;49m\u001b[43mFIND_ELEMENT\u001b[49m\u001b[43m,\u001b[49m\u001b[43m \u001b[49m\u001b[43m{\u001b[49m\u001b[38;5;124;43m\"\u001b[39;49m\u001b[38;5;124;43musing\u001b[39;49m\u001b[38;5;124;43m\"\u001b[39;49m\u001b[43m:\u001b[49m\u001b[43m \u001b[49m\u001b[43mby\u001b[49m\u001b[43m,\u001b[49m\u001b[43m \u001b[49m\u001b[38;5;124;43m\"\u001b[39;49m\u001b[38;5;124;43mvalue\u001b[39;49m\u001b[38;5;124;43m\"\u001b[39;49m\u001b[43m:\u001b[49m\u001b[43m \u001b[49m\u001b[43mvalue\u001b[49m\u001b[43m}\u001b[49m\u001b[43m)\u001b[49m[\u001b[38;5;124m\"\u001b[39m\u001b[38;5;124mvalue\u001b[39m\u001b[38;5;124m\"\u001b[39m]\n",
      "File \u001b[1;32m~\\anaconda3\\lib\\site-packages\\selenium\\webdriver\\remote\\webdriver.py:440\u001b[0m, in \u001b[0;36mWebDriver.execute\u001b[1;34m(self, driver_command, params)\u001b[0m\n\u001b[0;32m    438\u001b[0m response \u001b[38;5;241m=\u001b[39m \u001b[38;5;28mself\u001b[39m\u001b[38;5;241m.\u001b[39mcommand_executor\u001b[38;5;241m.\u001b[39mexecute(driver_command, params)\n\u001b[0;32m    439\u001b[0m \u001b[38;5;28;01mif\u001b[39;00m response:\n\u001b[1;32m--> 440\u001b[0m     \u001b[38;5;28;43mself\u001b[39;49m\u001b[38;5;241;43m.\u001b[39;49m\u001b[43merror_handler\u001b[49m\u001b[38;5;241;43m.\u001b[39;49m\u001b[43mcheck_response\u001b[49m\u001b[43m(\u001b[49m\u001b[43mresponse\u001b[49m\u001b[43m)\u001b[49m\n\u001b[0;32m    441\u001b[0m     response[\u001b[38;5;124m\"\u001b[39m\u001b[38;5;124mvalue\u001b[39m\u001b[38;5;124m\"\u001b[39m] \u001b[38;5;241m=\u001b[39m \u001b[38;5;28mself\u001b[39m\u001b[38;5;241m.\u001b[39m_unwrap_value(response\u001b[38;5;241m.\u001b[39mget(\u001b[38;5;124m\"\u001b[39m\u001b[38;5;124mvalue\u001b[39m\u001b[38;5;124m\"\u001b[39m, \u001b[38;5;28;01mNone\u001b[39;00m))\n\u001b[0;32m    442\u001b[0m     \u001b[38;5;28;01mreturn\u001b[39;00m response\n",
      "File \u001b[1;32m~\\anaconda3\\lib\\site-packages\\selenium\\webdriver\\remote\\errorhandler.py:245\u001b[0m, in \u001b[0;36mErrorHandler.check_response\u001b[1;34m(self, response)\u001b[0m\n\u001b[0;32m    243\u001b[0m         alert_text \u001b[38;5;241m=\u001b[39m value[\u001b[38;5;124m\"\u001b[39m\u001b[38;5;124malert\u001b[39m\u001b[38;5;124m\"\u001b[39m]\u001b[38;5;241m.\u001b[39mget(\u001b[38;5;124m\"\u001b[39m\u001b[38;5;124mtext\u001b[39m\u001b[38;5;124m\"\u001b[39m)\n\u001b[0;32m    244\u001b[0m     \u001b[38;5;28;01mraise\u001b[39;00m exception_class(message, screen, stacktrace, alert_text)  \u001b[38;5;66;03m# type: ignore[call-arg]  # mypy is not smart enough here\u001b[39;00m\n\u001b[1;32m--> 245\u001b[0m \u001b[38;5;28;01mraise\u001b[39;00m exception_class(message, screen, stacktrace)\n",
      "\u001b[1;31mNoSuchElementException\u001b[0m: Message: no such element: Unable to locate element: {\"method\":\"css selector\",\"selector\":\"[id=\"forwardBtn\"]\"}\n  (Session info: chrome=119.0.6045.106)\nStacktrace:\n\tGetHandleVerifier [0x00007FF742D182B2+55298]\n\t(No symbol) [0x00007FF742C85E02]\n\t(No symbol) [0x00007FF742B405AB]\n\t(No symbol) [0x00007FF742B8175C]\n\t(No symbol) [0x00007FF742B818DC]\n\t(No symbol) [0x00007FF742BBCBC7]\n\t(No symbol) [0x00007FF742BA20EF]\n\t(No symbol) [0x00007FF742BBAAA4]\n\t(No symbol) [0x00007FF742BA1E83]\n\t(No symbol) [0x00007FF742B7670A]\n\t(No symbol) [0x00007FF742B77964]\n\tGetHandleVerifier [0x00007FF743090AAB+3694587]\n\tGetHandleVerifier [0x00007FF7430E728E+4048862]\n\tGetHandleVerifier [0x00007FF7430DF173+4015811]\n\tGetHandleVerifier [0x00007FF742DB47D6+695590]\n\t(No symbol) [0x00007FF742C90CE8]\n\t(No symbol) [0x00007FF742C8CF34]\n\t(No symbol) [0x00007FF742C8D062]\n\t(No symbol) [0x00007FF742C7D3A3]\n\tBaseThreadInitThunk [0x00007FFD6889257D+29]\n\tRtlUserThreadStart [0x00007FFD6A10AA78+40]\n"
     ]
    }
   ],
   "source": [
    "# 전달 click\n",
    "find_id('forwardBtn', browser).click()"
   ]
  },
  {
   "cell_type": "code",
   "execution_count": 61,
   "id": "3d4526fc",
   "metadata": {},
   "outputs": [],
   "source": [
    "title_input = find_id('mail_tit', browser)\n",
    "title_input.clear()\n",
    "title_input.send_keys(title)"
   ]
  },
  {
   "cell_type": "code",
   "execution_count": 101,
   "id": "7b0286f9",
   "metadata": {},
   "outputs": [
    {
     "data": {
      "text/plain": [
       "98"
      ]
     },
     "execution_count": 101,
     "metadata": {},
     "output_type": "execute_result"
    }
   ],
   "source": [
    "len(ict_email_list)"
   ]
  },
  {
   "cell_type": "code",
   "execution_count": 102,
   "id": "73679be7",
   "metadata": {
    "scrolled": true
   },
   "outputs": [
    {
     "name": "stdout",
     "output_type": "stream",
     "text": [
      "1\n",
      "2\n",
      "3\n",
      "4\n",
      "5\n",
      "6\n",
      "7\n",
      "8\n",
      "9\n",
      "10\n",
      "11\n",
      "12\n",
      "13\n",
      "14\n",
      "15\n",
      "16\n",
      "17\n",
      "18\n",
      "19\n",
      "20\n",
      "21\n",
      "22\n",
      "23\n",
      "24\n",
      "25\n",
      "26\n",
      "27\n",
      "28\n",
      "29\n",
      "30\n",
      "31\n",
      "32\n",
      "33\n",
      "34\n",
      "35\n",
      "36\n",
      "37\n",
      "38\n",
      "39\n",
      "40\n",
      "41\n",
      "42\n",
      "43\n",
      "44\n",
      "45\n",
      "46\n",
      "47\n",
      "48\n",
      "49\n",
      "50\n",
      "51\n",
      "52\n",
      "53\n",
      "54\n",
      "55\n",
      "56\n",
      "57\n",
      "58\n",
      "59\n",
      "60\n",
      "61\n",
      "62\n",
      "63\n",
      "64\n",
      "65\n",
      "66\n",
      "67\n",
      "68\n",
      "69\n",
      "70\n",
      "71\n",
      "72\n",
      "73\n",
      "74\n",
      "75\n",
      "76\n",
      "77\n",
      "78\n",
      "79\n",
      "80\n",
      "81\n",
      "82\n",
      "83\n",
      "84\n",
      "85\n",
      "86\n",
      "87\n",
      "88\n",
      "89\n",
      "90\n",
      "91\n",
      "92\n",
      "93\n",
      "94\n",
      "95\n",
      "96\n",
      "97\n",
      "98\n"
     ]
    }
   ],
   "source": [
    "count = 1\n",
    "\n",
    "for i in ict_email_list:\n",
    "    find_id('recv_input', browser).send_keys(i)\n",
    "    find_id('recv_input', browser).send_keys(',')\n",
    "    print(count)\n",
    "    count += 1\n",
    "    time.sleep(1)"
   ]
  }
 ],
 "metadata": {
  "kernelspec": {
   "display_name": "Python 3 (ipykernel)",
   "language": "python",
   "name": "python3"
  },
  "language_info": {
   "codemirror_mode": {
    "name": "ipython",
    "version": 3
   },
   "file_extension": ".py",
   "mimetype": "text/x-python",
   "name": "python",
   "nbconvert_exporter": "python",
   "pygments_lexer": "ipython3",
   "version": "3.10.9"
  }
 },
 "nbformat": 4,
 "nbformat_minor": 5
}
