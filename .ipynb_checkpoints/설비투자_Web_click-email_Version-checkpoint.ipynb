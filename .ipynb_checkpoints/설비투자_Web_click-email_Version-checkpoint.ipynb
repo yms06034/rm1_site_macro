{
 "cells": [
  {
   "cell_type": "code",
   "execution_count": 1,
   "id": "0927cb16",
   "metadata": {},
   "outputs": [],
   "source": [
    "from selenium import webdriver\n",
    "from selenium.webdriver.common.by import By\n",
    "from selenium.webdriver.common.keys import Keys\n",
    "from selenium.webdriver.chrome.options import Options\n",
    "from selenium.webdriver.chrome.service import Service\n",
    "from selenium.common.exceptions import NoSuchElementException\n",
    "from selenium.webdriver.support.ui import WebDriverWait\n",
    "from selenium.webdriver.support import expected_conditions as EC\n",
    "\n",
    "from webdriver_manager.chrome import ChromeDriverManager\n",
    "\n",
    "from bs4 import BeautifulSoup as BS\n",
    "from datetime import datetime\n",
    "\n",
    "import pandas as pd\n",
    "import time\n",
    "import sys, os\n",
    "import re\n",
    "import json\n",
    "\n",
    "\n",
    "def find_css(css_selector, browser):\n",
    "    return browser.find_element(By.CSS_SELECTOR, css_selector)\n",
    "def finds_css(css_selector, browser):\n",
    "    return browser.find_elements(By.CSS_SELECTOR, css_selector)\n",
    "\n",
    "def find_xpath(xpath, browser):\n",
    "    return browser.find_element(By.XPATH, xpath)\n",
    "def finds_xpath(xpath, browser):\n",
    "    return browser.find_elements(By.XPATH, xpath)\n",
    "\n",
    "def find_id(e_id, browser):\n",
    "    return browser.find_element(By.ID, e_id)\n",
    "\n",
    "def find_className(cn, browser):\n",
    "    return browser.find_element(By.CLASS_NAME, cn)\n",
    "def finds_className(cn , browser):\n",
    "    return browser.find_elements(By.CLASS_NAME, cn)\n",
    "\n",
    "def find_linktext(lt, browser):\n",
    "    return browser.find_element(By.LINK_TEXT, lt)\n",
    "\n",
    "def find_name(name, browser):\n",
    "    return browser.find_element(By.NAME, name)\n",
    "def finds_name(name, browser):\n",
    "    return browser.find_elements(By.NAME, name)\n",
    "\n",
    "def find_tagName(tag_name, browser):\n",
    "    return browser.find_element(By.TAG_NAME, tag_name)\n",
    "\n",
    "def finds_tagName(tag_name, browser):\n",
    "    return browser.find_elements(By.TAG_NAME, tag_name)\n",
    "\n",
    "def resource_path(relative_path):\n",
    "    \"\"\" Get absolute path to resource, works for dev and for PyInstaller \"\"\"\n",
    "    base_path = getattr(sys, '_MEIPASS', os.path.dirname(os.path.abspath(__file__)))\n",
    "    return os.path.join(base_path, relative_path)"
   ]
  },
  {
   "cell_type": "code",
   "execution_count": 2,
   "id": "fe679f5b",
   "metadata": {},
   "outputs": [],
   "source": [
    "def open_browser():\n",
    "    options = webdriver.ChromeOptions()\n",
    "    options.add_argument('--no--sandbox')\n",
    "    options.add_argument('no-sandbox')\n",
    "    options.add_argument('--disable-dev-shm-usage')\n",
    "    options.add_argument('--window-size=1080,800')\n",
    "    options.add_argument('incognito')\n",
    "    chrome_service = Service('chromedriver')\n",
    "    chrome_service = Service(executable_path=\"chromedriver.exe\")\n",
    "    browser = webdriver.Chrome(service=chrome_service, options=options)\n",
    "    \n",
    "    return browser"
   ]
  },
  {
   "cell_type": "code",
   "execution_count": 17,
   "id": "6918aec2",
   "metadata": {},
   "outputs": [],
   "source": [
    "def first_login(browser, url, password):\n",
    "    browser.get(url)\n",
    "    time.sleep(1.5)\n",
    "    find_id('akey', browser).clear()\n",
    "    find_id('akey', browser).send_keys(password)\n",
    "    time.sleep(1)\n",
    "    find_xpath('/html/body/form/table/tbody/tr/td[2]/table/tbody/tr[4]/td/input', browser).click()"
   ]
  },
  {
   "cell_type": "code",
   "execution_count": 18,
   "id": "acedea80",
   "metadata": {},
   "outputs": [],
   "source": [
    "def contact_code_click(browser, url2,  contact_code, email):\n",
    "    browser.get(url2)\n",
    "    time.sleep(1)\n",
    "    \n",
    "    if email != 0:\n",
    "        email_input = find_id('objuf28', browser)\n",
    "        email_input.clear()\n",
    "        email_input.send_keys(email)\n",
    "\n",
    "        time.sleep(1)\n",
    "\n",
    "        email_send_btn = find_id('btnSender', browser)\n",
    "        email_send_btn.click()\n",
    "        time.sleep(1)\n",
    "    try:\n",
    "        alert = browser.switch_to.alert\n",
    "        alert.accept()\n",
    "    except:\n",
    "        pass\n",
    "\n",
    "    time.sleep(2)\n",
    "    \n",
    "    try:\n",
    "        browser.switch_to.frame('ifr_hidden1')\n",
    "        pass_url = find_className('iresult', browser)    \n",
    "    except Exception as ex:\n",
    "        pass_url = 0\n",
    "\n",
    "    if pass_url:\n",
    "        print('다음 사이트로 넘어감')\n",
    "        pass\n",
    "    else:\n",
    "        browser.switch_to.default_content()\n",
    "\n",
    "        if contact_code == 0:\n",
    "            th0 = find_id('objcallResult_0.회수', browser).click()\n",
    "        if contact_code == 1:\n",
    "            th2 = find_id('objcallResult_1.조사완료', browser).click()\n",
    "        if contact_code == 2:\n",
    "            th3 = find_id('objcallResult_2.컨택성공(메일발송)', browser).click()\n",
    "        if contact_code == 3:\n",
    "            th3 = find_id('objcallResult_3.재통화예약', browser).click()\n",
    "        if contact_code == 4:\n",
    "            th4 = find_id('objcallResult_4.비수신', browser).click()\n",
    "        if contact_code == 5:\n",
    "            th5 = find_id('objcallResult_5.부재', browser).click()\n",
    "        if contact_code == 6:\n",
    "            th6 = find_id('objcallResult_6.출장', browser).click()\n",
    "        if contact_code == 7:\n",
    "            th7 = find_id('objcallResult_7.거절', browser).click()\n",
    "        if contact_code == 8:\n",
    "            th8 = find_id('objcallResult_8.결번·번호오류', browser).click()\n",
    "        if contact_code == 9:\n",
    "            th9 = find_id('objcallResult_9.중복', browser).click()\n",
    "        if contact_code == 10:\n",
    "            th10 = find_id('objcallResult_10.조사대상아님', browser).click()\n",
    "        if contact_code == 11:\n",
    "            th11 = find_id('objcallResult_11.메일발송', browser).click()\n",
    "        if contact_code == 12:\n",
    "            th12 = find_id('objcallResult_12.기타', browser).click()\n",
    "        if contact_code == 13:\n",
    "            th13 = find_id('objcallResult_13.독려', browser).click()\n",
    "        if contact_code == 14:\n",
    "            th14 = find_id('objcallResult_14.폐업', browser).click()\n",
    "        if contact_code == 15:\n",
    "            th15 = find_id('objcallResult_수신거부', browser).click()\n",
    "\n",
    "        time.sleep(1)\n",
    "\n",
    "        find_id('btnCallInsert', browser).click()\n",
    "        time.sleep(1)\n",
    "\n",
    "        find_id('btnSaveOnly', browser).click()"
   ]
  },
  {
   "cell_type": "code",
   "execution_count": 5,
   "id": "36e414ff",
   "metadata": {},
   "outputs": [],
   "source": [
    "def send_emails(browser, url2, email):\n",
    "    browser.get(url2)\n",
    "    time.sleep(1)\n",
    "    \n",
    "    if email != 0:\n",
    "        email_input = find_id('objuf28', browser)\n",
    "        email_input.clear()\n",
    "        email_input.send_keys(email)\n",
    "\n",
    "        time.sleep(1)\n",
    "\n",
    "        email_send_btn = find_id('btnSender', browser)\n",
    "        email_send_btn.click()\n",
    "        time.sleep(1)\n",
    "    try:\n",
    "        alert = browser.switch_to.alert\n",
    "        alert.accept()\n",
    "    except:\n",
    "        pass"
   ]
  },
  {
   "cell_type": "code",
   "execution_count": 19,
   "id": "5e6e6800",
   "metadata": {},
   "outputs": [],
   "source": [
    "xls = pd.ExcelFile('C:\\\\Users\\\\user\\\\Desktop\\\\설비투자_1102_email.xlsx')\n",
    "df = pd.read_excel(xls, 'Sheet1')"
   ]
  },
  {
   "cell_type": "code",
   "execution_count": 20,
   "id": "3ad63e1a",
   "metadata": {},
   "outputs": [
    {
     "name": "stdout",
     "output_type": "stream",
     "text": [
      "<class 'pandas.core.frame.DataFrame'>\n",
      "RangeIndex: 2392 entries, 0 to 2391\n",
      "Data columns (total 3 columns):\n",
      " #   Column        Non-Null Count  Dtype \n",
      "---  ------        --------------  ----- \n",
      " 0   url           2392 non-null   object\n",
      " 1   email         524 non-null    object\n",
      " 2   contact_code  2392 non-null   int64 \n",
      "dtypes: int64(1), object(2)\n",
      "memory usage: 56.2+ KB\n"
     ]
    }
   ],
   "source": [
    "df.info()"
   ]
  },
  {
   "cell_type": "code",
   "execution_count": 21,
   "id": "e667956f",
   "metadata": {},
   "outputs": [],
   "source": [
    "url = 'https://rnr.surveybox.kr/sp7/S16269h8ufyh/mlist.asp'\n",
    "password = 'z56yr'\n",
    "\n",
    "df = df.fillna(0)"
   ]
  },
  {
   "cell_type": "code",
   "execution_count": 22,
   "id": "b436f603",
   "metadata": {},
   "outputs": [
    {
     "name": "stdout",
     "output_type": "stream",
     "text": [
      "2392\n",
      "2392\n",
      "2392\n"
     ]
    }
   ],
   "source": [
    "emails = df['email'].tolist()\n",
    "urls = df['url'].tolist()\n",
    "contact_codes = df['contact_code'].tolist()\n",
    "\n",
    "print(len(emails))\n",
    "print(len(urls))\n",
    "print(len(contact_codes))"
   ]
  },
  {
   "cell_type": "code",
   "execution_count": 23,
   "id": "ba7b52c9",
   "metadata": {
    "scrolled": true
   },
   "outputs": [
    {
     "ename": "WebDriverException",
     "evalue": "Message: unknown error: result.webdriverValue.value list is missing or empty in Runtime.callFunctionOn response\n  (Session info: chrome=119.0.6045.106)\nStacktrace:\n\tGetHandleVerifier [0x00007FF6B1DF8EF2+54786]\n\t(No symbol) [0x00007FF6B1D65612]\n\t(No symbol) [0x00007FF6B1C1A64B]\n\t(No symbol) [0x00007FF6B1C1EEC1]\n\t(No symbol) [0x00007FF6B1C2115F]\n\t(No symbol) [0x00007FF6B1C21250]\n\t(No symbol) [0x00007FF6B1C5B424]\n\t(No symbol) [0x00007FF6B1C5B91C]\n\t(No symbol) [0x00007FF6B1C96D87]\n\t(No symbol) [0x00007FF6B1C7BEAF]\n\t(No symbol) [0x00007FF6B1C94D02]\n\t(No symbol) [0x00007FF6B1C7BC43]\n\t(No symbol) [0x00007FF6B1C50941]\n\t(No symbol) [0x00007FF6B1C51B84]\n\tGetHandleVerifier [0x00007FF6B2147F52+3524194]\n\tGetHandleVerifier [0x00007FF6B219D800+3874576]\n\tGetHandleVerifier [0x00007FF6B2195D7F+3843215]\n\tGetHandleVerifier [0x00007FF6B1E95086+694166]\n\t(No symbol) [0x00007FF6B1D70A88]\n\t(No symbol) [0x00007FF6B1D6CA94]\n\t(No symbol) [0x00007FF6B1D6CBC2]\n\t(No symbol) [0x00007FF6B1D5CC83]\n\tBaseThreadInitThunk [0x00007FFBB125257D+29]\n\tRtlUserThreadStart [0x00007FFBB2DEAA78+40]\n",
     "output_type": "error",
     "traceback": [
      "\u001b[1;31m---------------------------------------------------------------------------\u001b[0m",
      "\u001b[1;31mWebDriverException\u001b[0m                        Traceback (most recent call last)",
      "Cell \u001b[1;32mIn[23], line 2\u001b[0m\n\u001b[0;32m      1\u001b[0m browser \u001b[38;5;241m=\u001b[39m open_browser()\n\u001b[1;32m----> 2\u001b[0m \u001b[43mfirst_login\u001b[49m\u001b[43m(\u001b[49m\u001b[43mbrowser\u001b[49m\u001b[43m,\u001b[49m\u001b[43m \u001b[49m\u001b[43murl\u001b[49m\u001b[43m,\u001b[49m\u001b[43m \u001b[49m\u001b[43mpassword\u001b[49m\u001b[43m)\u001b[49m\n\u001b[0;32m      4\u001b[0m count \u001b[38;5;241m=\u001b[39m \u001b[38;5;241m0\u001b[39m\n\u001b[0;32m      6\u001b[0m \u001b[38;5;28;01mfor\u001b[39;00m url2, email, contact_code \u001b[38;5;129;01min\u001b[39;00m \u001b[38;5;28mzip\u001b[39m(urls, emails, contact_codes):\n",
      "Cell \u001b[1;32mIn[17], line 4\u001b[0m, in \u001b[0;36mfirst_login\u001b[1;34m(browser, url, password)\u001b[0m\n\u001b[0;32m      2\u001b[0m browser\u001b[38;5;241m.\u001b[39mget(url)\n\u001b[0;32m      3\u001b[0m time\u001b[38;5;241m.\u001b[39msleep(\u001b[38;5;241m1.5\u001b[39m)\n\u001b[1;32m----> 4\u001b[0m \u001b[43mfind_id\u001b[49m\u001b[43m(\u001b[49m\u001b[38;5;124;43m'\u001b[39;49m\u001b[38;5;124;43makey\u001b[39;49m\u001b[38;5;124;43m'\u001b[39;49m\u001b[43m,\u001b[49m\u001b[43m \u001b[49m\u001b[43mbrowser\u001b[49m\u001b[43m)\u001b[49m\u001b[38;5;241m.\u001b[39mclear()\n\u001b[0;32m      5\u001b[0m find_id(\u001b[38;5;124m'\u001b[39m\u001b[38;5;124makey\u001b[39m\u001b[38;5;124m'\u001b[39m, browser)\u001b[38;5;241m.\u001b[39msend_keys(password)\n\u001b[0;32m      6\u001b[0m time\u001b[38;5;241m.\u001b[39msleep(\u001b[38;5;241m1\u001b[39m)\n",
      "Cell \u001b[1;32mIn[1], line 33\u001b[0m, in \u001b[0;36mfind_id\u001b[1;34m(e_id, browser)\u001b[0m\n\u001b[0;32m     32\u001b[0m \u001b[38;5;28;01mdef\u001b[39;00m \u001b[38;5;21mfind_id\u001b[39m(e_id, browser):\n\u001b[1;32m---> 33\u001b[0m     \u001b[38;5;28;01mreturn\u001b[39;00m \u001b[43mbrowser\u001b[49m\u001b[38;5;241;43m.\u001b[39;49m\u001b[43mfind_element\u001b[49m\u001b[43m(\u001b[49m\u001b[43mBy\u001b[49m\u001b[38;5;241;43m.\u001b[39;49m\u001b[43mID\u001b[49m\u001b[43m,\u001b[49m\u001b[43m \u001b[49m\u001b[43me_id\u001b[49m\u001b[43m)\u001b[49m\n",
      "File \u001b[1;32m~\\anaconda3\\lib\\site-packages\\selenium\\webdriver\\remote\\webdriver.py:831\u001b[0m, in \u001b[0;36mWebDriver.find_element\u001b[1;34m(self, by, value)\u001b[0m\n\u001b[0;32m    828\u001b[0m     by \u001b[38;5;241m=\u001b[39m By\u001b[38;5;241m.\u001b[39mCSS_SELECTOR\n\u001b[0;32m    829\u001b[0m     value \u001b[38;5;241m=\u001b[39m \u001b[38;5;124mf\u001b[39m\u001b[38;5;124m'\u001b[39m\u001b[38;5;124m[name=\u001b[39m\u001b[38;5;124m\"\u001b[39m\u001b[38;5;132;01m{\u001b[39;00mvalue\u001b[38;5;132;01m}\u001b[39;00m\u001b[38;5;124m\"\u001b[39m\u001b[38;5;124m]\u001b[39m\u001b[38;5;124m'\u001b[39m\n\u001b[1;32m--> 831\u001b[0m \u001b[38;5;28;01mreturn\u001b[39;00m \u001b[38;5;28;43mself\u001b[39;49m\u001b[38;5;241;43m.\u001b[39;49m\u001b[43mexecute\u001b[49m\u001b[43m(\u001b[49m\u001b[43mCommand\u001b[49m\u001b[38;5;241;43m.\u001b[39;49m\u001b[43mFIND_ELEMENT\u001b[49m\u001b[43m,\u001b[49m\u001b[43m \u001b[49m\u001b[43m{\u001b[49m\u001b[38;5;124;43m\"\u001b[39;49m\u001b[38;5;124;43musing\u001b[39;49m\u001b[38;5;124;43m\"\u001b[39;49m\u001b[43m:\u001b[49m\u001b[43m \u001b[49m\u001b[43mby\u001b[49m\u001b[43m,\u001b[49m\u001b[43m \u001b[49m\u001b[38;5;124;43m\"\u001b[39;49m\u001b[38;5;124;43mvalue\u001b[39;49m\u001b[38;5;124;43m\"\u001b[39;49m\u001b[43m:\u001b[49m\u001b[43m \u001b[49m\u001b[43mvalue\u001b[49m\u001b[43m}\u001b[49m\u001b[43m)\u001b[49m[\u001b[38;5;124m\"\u001b[39m\u001b[38;5;124mvalue\u001b[39m\u001b[38;5;124m\"\u001b[39m]\n",
      "File \u001b[1;32m~\\anaconda3\\lib\\site-packages\\selenium\\webdriver\\remote\\webdriver.py:440\u001b[0m, in \u001b[0;36mWebDriver.execute\u001b[1;34m(self, driver_command, params)\u001b[0m\n\u001b[0;32m    438\u001b[0m response \u001b[38;5;241m=\u001b[39m \u001b[38;5;28mself\u001b[39m\u001b[38;5;241m.\u001b[39mcommand_executor\u001b[38;5;241m.\u001b[39mexecute(driver_command, params)\n\u001b[0;32m    439\u001b[0m \u001b[38;5;28;01mif\u001b[39;00m response:\n\u001b[1;32m--> 440\u001b[0m     \u001b[38;5;28;43mself\u001b[39;49m\u001b[38;5;241;43m.\u001b[39;49m\u001b[43merror_handler\u001b[49m\u001b[38;5;241;43m.\u001b[39;49m\u001b[43mcheck_response\u001b[49m\u001b[43m(\u001b[49m\u001b[43mresponse\u001b[49m\u001b[43m)\u001b[49m\n\u001b[0;32m    441\u001b[0m     response[\u001b[38;5;124m\"\u001b[39m\u001b[38;5;124mvalue\u001b[39m\u001b[38;5;124m\"\u001b[39m] \u001b[38;5;241m=\u001b[39m \u001b[38;5;28mself\u001b[39m\u001b[38;5;241m.\u001b[39m_unwrap_value(response\u001b[38;5;241m.\u001b[39mget(\u001b[38;5;124m\"\u001b[39m\u001b[38;5;124mvalue\u001b[39m\u001b[38;5;124m\"\u001b[39m, \u001b[38;5;28;01mNone\u001b[39;00m))\n\u001b[0;32m    442\u001b[0m     \u001b[38;5;28;01mreturn\u001b[39;00m response\n",
      "File \u001b[1;32m~\\anaconda3\\lib\\site-packages\\selenium\\webdriver\\remote\\errorhandler.py:245\u001b[0m, in \u001b[0;36mErrorHandler.check_response\u001b[1;34m(self, response)\u001b[0m\n\u001b[0;32m    243\u001b[0m         alert_text \u001b[38;5;241m=\u001b[39m value[\u001b[38;5;124m\"\u001b[39m\u001b[38;5;124malert\u001b[39m\u001b[38;5;124m\"\u001b[39m]\u001b[38;5;241m.\u001b[39mget(\u001b[38;5;124m\"\u001b[39m\u001b[38;5;124mtext\u001b[39m\u001b[38;5;124m\"\u001b[39m)\n\u001b[0;32m    244\u001b[0m     \u001b[38;5;28;01mraise\u001b[39;00m exception_class(message, screen, stacktrace, alert_text)  \u001b[38;5;66;03m# type: ignore[call-arg]  # mypy is not smart enough here\u001b[39;00m\n\u001b[1;32m--> 245\u001b[0m \u001b[38;5;28;01mraise\u001b[39;00m exception_class(message, screen, stacktrace)\n",
      "\u001b[1;31mWebDriverException\u001b[0m: Message: unknown error: result.webdriverValue.value list is missing or empty in Runtime.callFunctionOn response\n  (Session info: chrome=119.0.6045.106)\nStacktrace:\n\tGetHandleVerifier [0x00007FF6B1DF8EF2+54786]\n\t(No symbol) [0x00007FF6B1D65612]\n\t(No symbol) [0x00007FF6B1C1A64B]\n\t(No symbol) [0x00007FF6B1C1EEC1]\n\t(No symbol) [0x00007FF6B1C2115F]\n\t(No symbol) [0x00007FF6B1C21250]\n\t(No symbol) [0x00007FF6B1C5B424]\n\t(No symbol) [0x00007FF6B1C5B91C]\n\t(No symbol) [0x00007FF6B1C96D87]\n\t(No symbol) [0x00007FF6B1C7BEAF]\n\t(No symbol) [0x00007FF6B1C94D02]\n\t(No symbol) [0x00007FF6B1C7BC43]\n\t(No symbol) [0x00007FF6B1C50941]\n\t(No symbol) [0x00007FF6B1C51B84]\n\tGetHandleVerifier [0x00007FF6B2147F52+3524194]\n\tGetHandleVerifier [0x00007FF6B219D800+3874576]\n\tGetHandleVerifier [0x00007FF6B2195D7F+3843215]\n\tGetHandleVerifier [0x00007FF6B1E95086+694166]\n\t(No symbol) [0x00007FF6B1D70A88]\n\t(No symbol) [0x00007FF6B1D6CA94]\n\t(No symbol) [0x00007FF6B1D6CBC2]\n\t(No symbol) [0x00007FF6B1D5CC83]\n\tBaseThreadInitThunk [0x00007FFBB125257D+29]\n\tRtlUserThreadStart [0x00007FFBB2DEAA78+40]\n"
     ]
    }
   ],
   "source": [
    "browser = open_browser()\n",
    "first_login(browser, url, password)\n",
    "\n",
    "count = 0\n",
    "\n",
    "for url2, email, contact_code in zip(urls, emails, contact_codes):\n",
    "    contact_code_click(browser, url2,  contact_code, email)\n",
    "    print(count)\n",
    "    count += 1"
   ]
  },
  {
   "cell_type": "code",
   "execution_count": 27,
   "id": "81a89d19",
   "metadata": {},
   "outputs": [
    {
     "ename": "WebDriverException",
     "evalue": "Message: unknown error: result.webdriverValue.value list is missing or empty in Runtime.callFunctionOn response\n  (Session info: chrome=119.0.6045.106)\nStacktrace:\n\tGetHandleVerifier [0x00007FF6B1DF8EF2+54786]\n\t(No symbol) [0x00007FF6B1D65612]\n\t(No symbol) [0x00007FF6B1C1A64B]\n\t(No symbol) [0x00007FF6B1C1EEC1]\n\t(No symbol) [0x00007FF6B1C2115F]\n\t(No symbol) [0x00007FF6B1C21250]\n\t(No symbol) [0x00007FF6B1C5B424]\n\t(No symbol) [0x00007FF6B1C5B91C]\n\t(No symbol) [0x00007FF6B1C96D87]\n\t(No symbol) [0x00007FF6B1C7BEAF]\n\t(No symbol) [0x00007FF6B1C94D02]\n\t(No symbol) [0x00007FF6B1C7BC43]\n\t(No symbol) [0x00007FF6B1C50941]\n\t(No symbol) [0x00007FF6B1C51B84]\n\tGetHandleVerifier [0x00007FF6B2147F52+3524194]\n\tGetHandleVerifier [0x00007FF6B219D800+3874576]\n\tGetHandleVerifier [0x00007FF6B2195D7F+3843215]\n\tGetHandleVerifier [0x00007FF6B1E95086+694166]\n\t(No symbol) [0x00007FF6B1D70A88]\n\t(No symbol) [0x00007FF6B1D6CA94]\n\t(No symbol) [0x00007FF6B1D6CBC2]\n\t(No symbol) [0x00007FF6B1D5CC83]\n\tBaseThreadInitThunk [0x00007FFBB125257D+29]\n\tRtlUserThreadStart [0x00007FFBB2DEAA78+40]\n",
     "output_type": "error",
     "traceback": [
      "\u001b[1;31m---------------------------------------------------------------------------\u001b[0m",
      "\u001b[1;31mWebDriverException\u001b[0m                        Traceback (most recent call last)",
      "Cell \u001b[1;32mIn[27], line 1\u001b[0m\n\u001b[1;32m----> 1\u001b[0m \u001b[43mfind_id\u001b[49m\u001b[43m(\u001b[49m\u001b[38;5;124;43m'\u001b[39;49m\u001b[38;5;124;43makey\u001b[39;49m\u001b[38;5;124;43m'\u001b[39;49m\u001b[43m,\u001b[49m\u001b[43m \u001b[49m\u001b[43mbrowser\u001b[49m\u001b[43m)\u001b[49m\n",
      "Cell \u001b[1;32mIn[1], line 33\u001b[0m, in \u001b[0;36mfind_id\u001b[1;34m(e_id, browser)\u001b[0m\n\u001b[0;32m     32\u001b[0m \u001b[38;5;28;01mdef\u001b[39;00m \u001b[38;5;21mfind_id\u001b[39m(e_id, browser):\n\u001b[1;32m---> 33\u001b[0m     \u001b[38;5;28;01mreturn\u001b[39;00m \u001b[43mbrowser\u001b[49m\u001b[38;5;241;43m.\u001b[39;49m\u001b[43mfind_element\u001b[49m\u001b[43m(\u001b[49m\u001b[43mBy\u001b[49m\u001b[38;5;241;43m.\u001b[39;49m\u001b[43mID\u001b[49m\u001b[43m,\u001b[49m\u001b[43m \u001b[49m\u001b[43me_id\u001b[49m\u001b[43m)\u001b[49m\n",
      "File \u001b[1;32m~\\anaconda3\\lib\\site-packages\\selenium\\webdriver\\remote\\webdriver.py:831\u001b[0m, in \u001b[0;36mWebDriver.find_element\u001b[1;34m(self, by, value)\u001b[0m\n\u001b[0;32m    828\u001b[0m     by \u001b[38;5;241m=\u001b[39m By\u001b[38;5;241m.\u001b[39mCSS_SELECTOR\n\u001b[0;32m    829\u001b[0m     value \u001b[38;5;241m=\u001b[39m \u001b[38;5;124mf\u001b[39m\u001b[38;5;124m'\u001b[39m\u001b[38;5;124m[name=\u001b[39m\u001b[38;5;124m\"\u001b[39m\u001b[38;5;132;01m{\u001b[39;00mvalue\u001b[38;5;132;01m}\u001b[39;00m\u001b[38;5;124m\"\u001b[39m\u001b[38;5;124m]\u001b[39m\u001b[38;5;124m'\u001b[39m\n\u001b[1;32m--> 831\u001b[0m \u001b[38;5;28;01mreturn\u001b[39;00m \u001b[38;5;28;43mself\u001b[39;49m\u001b[38;5;241;43m.\u001b[39;49m\u001b[43mexecute\u001b[49m\u001b[43m(\u001b[49m\u001b[43mCommand\u001b[49m\u001b[38;5;241;43m.\u001b[39;49m\u001b[43mFIND_ELEMENT\u001b[49m\u001b[43m,\u001b[49m\u001b[43m \u001b[49m\u001b[43m{\u001b[49m\u001b[38;5;124;43m\"\u001b[39;49m\u001b[38;5;124;43musing\u001b[39;49m\u001b[38;5;124;43m\"\u001b[39;49m\u001b[43m:\u001b[49m\u001b[43m \u001b[49m\u001b[43mby\u001b[49m\u001b[43m,\u001b[49m\u001b[43m \u001b[49m\u001b[38;5;124;43m\"\u001b[39;49m\u001b[38;5;124;43mvalue\u001b[39;49m\u001b[38;5;124;43m\"\u001b[39;49m\u001b[43m:\u001b[49m\u001b[43m \u001b[49m\u001b[43mvalue\u001b[49m\u001b[43m}\u001b[49m\u001b[43m)\u001b[49m[\u001b[38;5;124m\"\u001b[39m\u001b[38;5;124mvalue\u001b[39m\u001b[38;5;124m\"\u001b[39m]\n",
      "File \u001b[1;32m~\\anaconda3\\lib\\site-packages\\selenium\\webdriver\\remote\\webdriver.py:440\u001b[0m, in \u001b[0;36mWebDriver.execute\u001b[1;34m(self, driver_command, params)\u001b[0m\n\u001b[0;32m    438\u001b[0m response \u001b[38;5;241m=\u001b[39m \u001b[38;5;28mself\u001b[39m\u001b[38;5;241m.\u001b[39mcommand_executor\u001b[38;5;241m.\u001b[39mexecute(driver_command, params)\n\u001b[0;32m    439\u001b[0m \u001b[38;5;28;01mif\u001b[39;00m response:\n\u001b[1;32m--> 440\u001b[0m     \u001b[38;5;28;43mself\u001b[39;49m\u001b[38;5;241;43m.\u001b[39;49m\u001b[43merror_handler\u001b[49m\u001b[38;5;241;43m.\u001b[39;49m\u001b[43mcheck_response\u001b[49m\u001b[43m(\u001b[49m\u001b[43mresponse\u001b[49m\u001b[43m)\u001b[49m\n\u001b[0;32m    441\u001b[0m     response[\u001b[38;5;124m\"\u001b[39m\u001b[38;5;124mvalue\u001b[39m\u001b[38;5;124m\"\u001b[39m] \u001b[38;5;241m=\u001b[39m \u001b[38;5;28mself\u001b[39m\u001b[38;5;241m.\u001b[39m_unwrap_value(response\u001b[38;5;241m.\u001b[39mget(\u001b[38;5;124m\"\u001b[39m\u001b[38;5;124mvalue\u001b[39m\u001b[38;5;124m\"\u001b[39m, \u001b[38;5;28;01mNone\u001b[39;00m))\n\u001b[0;32m    442\u001b[0m     \u001b[38;5;28;01mreturn\u001b[39;00m response\n",
      "File \u001b[1;32m~\\anaconda3\\lib\\site-packages\\selenium\\webdriver\\remote\\errorhandler.py:245\u001b[0m, in \u001b[0;36mErrorHandler.check_response\u001b[1;34m(self, response)\u001b[0m\n\u001b[0;32m    243\u001b[0m         alert_text \u001b[38;5;241m=\u001b[39m value[\u001b[38;5;124m\"\u001b[39m\u001b[38;5;124malert\u001b[39m\u001b[38;5;124m\"\u001b[39m]\u001b[38;5;241m.\u001b[39mget(\u001b[38;5;124m\"\u001b[39m\u001b[38;5;124mtext\u001b[39m\u001b[38;5;124m\"\u001b[39m)\n\u001b[0;32m    244\u001b[0m     \u001b[38;5;28;01mraise\u001b[39;00m exception_class(message, screen, stacktrace, alert_text)  \u001b[38;5;66;03m# type: ignore[call-arg]  # mypy is not smart enough here\u001b[39;00m\n\u001b[1;32m--> 245\u001b[0m \u001b[38;5;28;01mraise\u001b[39;00m exception_class(message, screen, stacktrace)\n",
      "\u001b[1;31mWebDriverException\u001b[0m: Message: unknown error: result.webdriverValue.value list is missing or empty in Runtime.callFunctionOn response\n  (Session info: chrome=119.0.6045.106)\nStacktrace:\n\tGetHandleVerifier [0x00007FF6B1DF8EF2+54786]\n\t(No symbol) [0x00007FF6B1D65612]\n\t(No symbol) [0x00007FF6B1C1A64B]\n\t(No symbol) [0x00007FF6B1C1EEC1]\n\t(No symbol) [0x00007FF6B1C2115F]\n\t(No symbol) [0x00007FF6B1C21250]\n\t(No symbol) [0x00007FF6B1C5B424]\n\t(No symbol) [0x00007FF6B1C5B91C]\n\t(No symbol) [0x00007FF6B1C96D87]\n\t(No symbol) [0x00007FF6B1C7BEAF]\n\t(No symbol) [0x00007FF6B1C94D02]\n\t(No symbol) [0x00007FF6B1C7BC43]\n\t(No symbol) [0x00007FF6B1C50941]\n\t(No symbol) [0x00007FF6B1C51B84]\n\tGetHandleVerifier [0x00007FF6B2147F52+3524194]\n\tGetHandleVerifier [0x00007FF6B219D800+3874576]\n\tGetHandleVerifier [0x00007FF6B2195D7F+3843215]\n\tGetHandleVerifier [0x00007FF6B1E95086+694166]\n\t(No symbol) [0x00007FF6B1D70A88]\n\t(No symbol) [0x00007FF6B1D6CA94]\n\t(No symbol) [0x00007FF6B1D6CBC2]\n\t(No symbol) [0x00007FF6B1D5CC83]\n\tBaseThreadInitThunk [0x00007FFBB125257D+29]\n\tRtlUserThreadStart [0x00007FFBB2DEAA78+40]\n"
     ]
    }
   ],
   "source": [
    "find_id('akey', browser)"
   ]
  },
  {
   "cell_type": "code",
   "execution_count": 95,
   "id": "2191b9d2",
   "metadata": {},
   "outputs": [],
   "source": [
    "browser.get(url2)"
   ]
  }
 ],
 "metadata": {
  "kernelspec": {
   "display_name": "Python 3 (ipykernel)",
   "language": "python",
   "name": "python3"
  },
  "language_info": {
   "codemirror_mode": {
    "name": "ipython",
    "version": 3
   },
   "file_extension": ".py",
   "mimetype": "text/x-python",
   "name": "python",
   "nbconvert_exporter": "python",
   "pygments_lexer": "ipython3",
   "version": "3.10.9"
  }
 },
 "nbformat": 4,
 "nbformat_minor": 5
}
